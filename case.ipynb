{
  "nbformat": 4,
  "nbformat_minor": 0,
  "metadata": {
    "colab": {
      "name": "case.ipynb",
      "provenance": [],
      "collapsed_sections": [],
      "mount_file_id": "1USUz-_wxrZPEHUk9hX-yNQU1QHZfowyz",
      "authorship_tag": "ABX9TyNCX6ev2iwntYNUAeQgYZe5",
      "include_colab_link": true
    },
    "kernelspec": {
      "name": "python3",
      "display_name": "Python 3"
    },
    "language_info": {
      "name": "python"
    }
  },
  "cells": [
    {
      "cell_type": "markdown",
      "metadata": {
        "id": "view-in-github",
        "colab_type": "text"
      },
      "source": [
        "<a href=\"https://colab.research.google.com/github/wanessamendonca/Projeto_NLP/blob/main/case.ipynb\" target=\"_parent\"><img src=\"https://colab.research.google.com/assets/colab-badge.svg\" alt=\"Open In Colab\"/></a>"
      ]
    },
    {
      "cell_type": "markdown",
      "source": [
        "## **Importando Bibliotecas**"
      ],
      "metadata": {
        "id": "86ZuFTBGMAjg"
      }
    },
    {
      "cell_type": "code",
      "source": [
        "# Bibliotecas clássicas\n",
        "import pandas as pd\n",
        "import numpy as np \n",
        "import matplotlib.pyplot as plt\n",
        "from imblearn.over_sampling import RandomOverSampler\n",
        "from sklearn.model_selection import train_test_split\n",
        "from sklearn.metrics import accuracy_score\n",
        "import random"
      ],
      "metadata": {
        "id": "VerUIpjaHbIx"
      },
      "execution_count": null,
      "outputs": []
    },
    {
      "cell_type": "code",
      "execution_count": null,
      "metadata": {
        "colab": {
          "base_uri": "https://localhost:8080/"
        },
        "id": "mwf9cp1bK_NE",
        "outputId": "03c0f40e-7632-482d-e3fb-d054b15effc4"
      },
      "outputs": [
        {
          "output_type": "stream",
          "name": "stdout",
          "text": [
            "[nltk_data] Downloading package stopwords to /root/nltk_data...\n",
            "[nltk_data]   Package stopwords is already up-to-date!\n"
          ]
        }
      ],
      "source": [
        "# Bibliotecas para pré-processamento de texto\n",
        "import nltk \n",
        "nltk.download('stopwords')\n",
        "from nltk.corpus import stopwords\n",
        "from nltk.stem import SnowballStemmer\n",
        "import spacy\n",
        "from wordcloud import WordCloud\n",
        "import re"
      ]
    },
    {
      "cell_type": "code",
      "source": [
        "# Download do vocabulário em pt-BR\n",
        "spacy.cli.download(\"pt_core_news_sm\")"
      ],
      "metadata": {
        "colab": {
          "base_uri": "https://localhost:8080/"
        },
        "id": "bUFjlSxekawb",
        "outputId": "5406c2db-f481-4274-a6d1-2665cbb3635c"
      },
      "execution_count": null,
      "outputs": [
        {
          "output_type": "stream",
          "name": "stdout",
          "text": [
            "\u001b[38;5;2m✔ Download and installation successful\u001b[0m\n",
            "You can now load the model via spacy.load('pt_core_news_sm')\n"
          ]
        }
      ]
    },
    {
      "cell_type": "code",
      "source": [
        "# Download do stemmizador\n",
        "nltk.download('rslp')"
      ],
      "metadata": {
        "colab": {
          "base_uri": "https://localhost:8080/"
        },
        "id": "kJrI74innq6R",
        "outputId": "e4a4cd00-164b-470e-ac62-48ef4a6ff7b0"
      },
      "execution_count": null,
      "outputs": [
        {
          "output_type": "stream",
          "name": "stdout",
          "text": [
            "[nltk_data] Downloading package rslp to /root/nltk_data...\n",
            "[nltk_data]   Package rslp is already up-to-date!\n"
          ]
        },
        {
          "output_type": "execute_result",
          "data": {
            "text/plain": [
              "True"
            ]
          },
          "metadata": {},
          "execution_count": 4
        }
      ]
    },
    {
      "cell_type": "code",
      "source": [
        "# Bibliotecas para tokenização de texto\n",
        "from keras.preprocessing.text import Tokenizer\n",
        "from keras.preprocessing.sequence import pad_sequences"
      ],
      "metadata": {
        "id": "hwojcICjLnwj"
      },
      "execution_count": null,
      "outputs": []
    },
    {
      "cell_type": "code",
      "source": [
        "# Bibliotecas para implementação de RNN\n",
        "from keras.layers import Embedding, Input, Dropout, LSTM, Dense, SpatialDropout1D, Bidirectional, Conv1D\n",
        "import tensorflow as tf"
      ],
      "metadata": {
        "id": "KOY3xNhZL5B-"
      },
      "execution_count": null,
      "outputs": []
    },
    {
      "cell_type": "markdown",
      "source": [
        "## **Importando o Dataset**"
      ],
      "metadata": {
        "id": "TBAJfbhxMHts"
      }
    },
    {
      "cell_type": "code",
      "source": [
        "df = pd.read_csv('/content/drive/MyDrive/Santander Coders/Case PLN/2019-05-28_portuguese_hate_speech_binary_classification.csv')\n",
        "df.head()"
      ],
      "metadata": {
        "colab": {
          "base_uri": "https://localhost:8080/",
          "height": 206
        },
        "id": "3TXNfUduMLGU",
        "outputId": "17d75afc-9bef-446c-b6cd-287ce64384e5"
      },
      "execution_count": null,
      "outputs": [
        {
          "output_type": "execute_result",
          "data": {
            "text/plain": [
              "                                                text  hatespeech_comb  \\\n",
              "0  @__andrea__b \\nO cara vive em outro mundo\\nNão...                1   \n",
              "1  @_carmeloneto Estes incompetentes não cuidam n...                0   \n",
              "2  @_carmeloneto \\nOs 'cumpanhero' quebraram toda...                0   \n",
              "3  @_GlitteryKisses é isso não conseguem pensar n...                0   \n",
              "4                @_iglira bom dia macaco branco haha                1   \n",
              "\n",
              "   hatespeech_G1 annotator_G1  hatespeech_G2 annotator_G2  hatespeech_G3  \\\n",
              "0              1            A            1.0            V              0   \n",
              "1              1            D            0.0            V              0   \n",
              "2              1            A            0.0            B              0   \n",
              "3              0            C            0.0            V              0   \n",
              "4              0            A            1.0            I              1   \n",
              "\n",
              "  annotator_G3  \n",
              "0            E  \n",
              "1            C  \n",
              "2            E  \n",
              "3            D  \n",
              "4            E  "
            ],
            "text/html": [
              "\n",
              "  <div id=\"df-d6bb3813-c522-42e5-b3a6-f5a54033c15f\">\n",
              "    <div class=\"colab-df-container\">\n",
              "      <div>\n",
              "<style scoped>\n",
              "    .dataframe tbody tr th:only-of-type {\n",
              "        vertical-align: middle;\n",
              "    }\n",
              "\n",
              "    .dataframe tbody tr th {\n",
              "        vertical-align: top;\n",
              "    }\n",
              "\n",
              "    .dataframe thead th {\n",
              "        text-align: right;\n",
              "    }\n",
              "</style>\n",
              "<table border=\"1\" class=\"dataframe\">\n",
              "  <thead>\n",
              "    <tr style=\"text-align: right;\">\n",
              "      <th></th>\n",
              "      <th>text</th>\n",
              "      <th>hatespeech_comb</th>\n",
              "      <th>hatespeech_G1</th>\n",
              "      <th>annotator_G1</th>\n",
              "      <th>hatespeech_G2</th>\n",
              "      <th>annotator_G2</th>\n",
              "      <th>hatespeech_G3</th>\n",
              "      <th>annotator_G3</th>\n",
              "    </tr>\n",
              "  </thead>\n",
              "  <tbody>\n",
              "    <tr>\n",
              "      <th>0</th>\n",
              "      <td>@__andrea__b \\nO cara vive em outro mundo\\nNão...</td>\n",
              "      <td>1</td>\n",
              "      <td>1</td>\n",
              "      <td>A</td>\n",
              "      <td>1.0</td>\n",
              "      <td>V</td>\n",
              "      <td>0</td>\n",
              "      <td>E</td>\n",
              "    </tr>\n",
              "    <tr>\n",
              "      <th>1</th>\n",
              "      <td>@_carmeloneto Estes incompetentes não cuidam n...</td>\n",
              "      <td>0</td>\n",
              "      <td>1</td>\n",
              "      <td>D</td>\n",
              "      <td>0.0</td>\n",
              "      <td>V</td>\n",
              "      <td>0</td>\n",
              "      <td>C</td>\n",
              "    </tr>\n",
              "    <tr>\n",
              "      <th>2</th>\n",
              "      <td>@_carmeloneto \\nOs 'cumpanhero' quebraram toda...</td>\n",
              "      <td>0</td>\n",
              "      <td>1</td>\n",
              "      <td>A</td>\n",
              "      <td>0.0</td>\n",
              "      <td>B</td>\n",
              "      <td>0</td>\n",
              "      <td>E</td>\n",
              "    </tr>\n",
              "    <tr>\n",
              "      <th>3</th>\n",
              "      <td>@_GlitteryKisses é isso não conseguem pensar n...</td>\n",
              "      <td>0</td>\n",
              "      <td>0</td>\n",
              "      <td>C</td>\n",
              "      <td>0.0</td>\n",
              "      <td>V</td>\n",
              "      <td>0</td>\n",
              "      <td>D</td>\n",
              "    </tr>\n",
              "    <tr>\n",
              "      <th>4</th>\n",
              "      <td>@_iglira bom dia macaco branco haha</td>\n",
              "      <td>1</td>\n",
              "      <td>0</td>\n",
              "      <td>A</td>\n",
              "      <td>1.0</td>\n",
              "      <td>I</td>\n",
              "      <td>1</td>\n",
              "      <td>E</td>\n",
              "    </tr>\n",
              "  </tbody>\n",
              "</table>\n",
              "</div>\n",
              "      <button class=\"colab-df-convert\" onclick=\"convertToInteractive('df-d6bb3813-c522-42e5-b3a6-f5a54033c15f')\"\n",
              "              title=\"Convert this dataframe to an interactive table.\"\n",
              "              style=\"display:none;\">\n",
              "        \n",
              "  <svg xmlns=\"http://www.w3.org/2000/svg\" height=\"24px\"viewBox=\"0 0 24 24\"\n",
              "       width=\"24px\">\n",
              "    <path d=\"M0 0h24v24H0V0z\" fill=\"none\"/>\n",
              "    <path d=\"M18.56 5.44l.94 2.06.94-2.06 2.06-.94-2.06-.94-.94-2.06-.94 2.06-2.06.94zm-11 1L8.5 8.5l.94-2.06 2.06-.94-2.06-.94L8.5 2.5l-.94 2.06-2.06.94zm10 10l.94 2.06.94-2.06 2.06-.94-2.06-.94-.94-2.06-.94 2.06-2.06.94z\"/><path d=\"M17.41 7.96l-1.37-1.37c-.4-.4-.92-.59-1.43-.59-.52 0-1.04.2-1.43.59L10.3 9.45l-7.72 7.72c-.78.78-.78 2.05 0 2.83L4 21.41c.39.39.9.59 1.41.59.51 0 1.02-.2 1.41-.59l7.78-7.78 2.81-2.81c.8-.78.8-2.07 0-2.86zM5.41 20L4 18.59l7.72-7.72 1.47 1.35L5.41 20z\"/>\n",
              "  </svg>\n",
              "      </button>\n",
              "      \n",
              "  <style>\n",
              "    .colab-df-container {\n",
              "      display:flex;\n",
              "      flex-wrap:wrap;\n",
              "      gap: 12px;\n",
              "    }\n",
              "\n",
              "    .colab-df-convert {\n",
              "      background-color: #E8F0FE;\n",
              "      border: none;\n",
              "      border-radius: 50%;\n",
              "      cursor: pointer;\n",
              "      display: none;\n",
              "      fill: #1967D2;\n",
              "      height: 32px;\n",
              "      padding: 0 0 0 0;\n",
              "      width: 32px;\n",
              "    }\n",
              "\n",
              "    .colab-df-convert:hover {\n",
              "      background-color: #E2EBFA;\n",
              "      box-shadow: 0px 1px 2px rgba(60, 64, 67, 0.3), 0px 1px 3px 1px rgba(60, 64, 67, 0.15);\n",
              "      fill: #174EA6;\n",
              "    }\n",
              "\n",
              "    [theme=dark] .colab-df-convert {\n",
              "      background-color: #3B4455;\n",
              "      fill: #D2E3FC;\n",
              "    }\n",
              "\n",
              "    [theme=dark] .colab-df-convert:hover {\n",
              "      background-color: #434B5C;\n",
              "      box-shadow: 0px 1px 3px 1px rgba(0, 0, 0, 0.15);\n",
              "      filter: drop-shadow(0px 1px 2px rgba(0, 0, 0, 0.3));\n",
              "      fill: #FFFFFF;\n",
              "    }\n",
              "  </style>\n",
              "\n",
              "      <script>\n",
              "        const buttonEl =\n",
              "          document.querySelector('#df-d6bb3813-c522-42e5-b3a6-f5a54033c15f button.colab-df-convert');\n",
              "        buttonEl.style.display =\n",
              "          google.colab.kernel.accessAllowed ? 'block' : 'none';\n",
              "\n",
              "        async function convertToInteractive(key) {\n",
              "          const element = document.querySelector('#df-d6bb3813-c522-42e5-b3a6-f5a54033c15f');\n",
              "          const dataTable =\n",
              "            await google.colab.kernel.invokeFunction('convertToInteractive',\n",
              "                                                     [key], {});\n",
              "          if (!dataTable) return;\n",
              "\n",
              "          const docLinkHtml = 'Like what you see? Visit the ' +\n",
              "            '<a target=\"_blank\" href=https://colab.research.google.com/notebooks/data_table.ipynb>data table notebook</a>'\n",
              "            + ' to learn more about interactive tables.';\n",
              "          element.innerHTML = '';\n",
              "          dataTable['output_type'] = 'display_data';\n",
              "          await google.colab.output.renderOutput(dataTable, element);\n",
              "          const docLink = document.createElement('div');\n",
              "          docLink.innerHTML = docLinkHtml;\n",
              "          element.appendChild(docLink);\n",
              "        }\n",
              "      </script>\n",
              "    </div>\n",
              "  </div>\n",
              "  "
            ]
          },
          "metadata": {},
          "execution_count": 7
        }
      ]
    },
    {
      "cell_type": "markdown",
      "source": [
        "## **Checando principais Informações e Aplicando Tratamentos**"
      ],
      "metadata": {
        "id": "6OpTMAqzQB0K"
      }
    },
    {
      "cell_type": "code",
      "source": [
        "# Checando a dimensão da base de dados\n",
        "df.shape"
      ],
      "metadata": {
        "colab": {
          "base_uri": "https://localhost:8080/"
        },
        "id": "4mLACpmcY_gW",
        "outputId": "5524297d-abd0-4dad-cdc9-c5eff0fafdc2"
      },
      "execution_count": null,
      "outputs": [
        {
          "output_type": "execute_result",
          "data": {
            "text/plain": [
              "(5670, 8)"
            ]
          },
          "metadata": {},
          "execution_count": 8
        }
      ]
    },
    {
      "cell_type": "code",
      "source": [
        "# Checando a presença de valores faltantes\n",
        "df.isnull().sum()"
      ],
      "metadata": {
        "colab": {
          "base_uri": "https://localhost:8080/"
        },
        "id": "hkENewIGOiqV",
        "outputId": "15bea8c1-26c3-42fd-8d0a-cf3c2cc76246"
      },
      "execution_count": null,
      "outputs": [
        {
          "output_type": "execute_result",
          "data": {
            "text/plain": [
              "text               0\n",
              "hatespeech_comb    0\n",
              "hatespeech_G1      0\n",
              "annotator_G1       0\n",
              "hatespeech_G2      2\n",
              "annotator_G2       0\n",
              "hatespeech_G3      0\n",
              "annotator_G3       0\n",
              "dtype: int64"
            ]
          },
          "metadata": {},
          "execution_count": 9
        }
      ]
    },
    {
      "cell_type": "code",
      "source": [
        "# Checando se existem linhas duplicadas\n",
        "df.duplicated().sum()"
      ],
      "metadata": {
        "colab": {
          "base_uri": "https://localhost:8080/"
        },
        "id": "fSd9-WWTOjEi",
        "outputId": "7184dd83-d6b1-4a8e-ded7-e21498f6434c"
      },
      "execution_count": null,
      "outputs": [
        {
          "output_type": "execute_result",
          "data": {
            "text/plain": [
              "4"
            ]
          },
          "metadata": {},
          "execution_count": 10
        }
      ]
    },
    {
      "cell_type": "code",
      "source": [
        "# Eliminando as linhas duplicadas\n",
        "df = df.drop_duplicates()"
      ],
      "metadata": {
        "id": "2jjOhq82PDSU"
      },
      "execution_count": null,
      "outputs": []
    },
    {
      "cell_type": "code",
      "source": [
        "# Checando a nova dimensão da base de dados\n",
        "df.shape"
      ],
      "metadata": {
        "colab": {
          "base_uri": "https://localhost:8080/"
        },
        "id": "D629TTEaPm5V",
        "outputId": "a603350d-95cd-4768-ee48-70ed17276aa0"
      },
      "execution_count": null,
      "outputs": [
        {
          "output_type": "execute_result",
          "data": {
            "text/plain": [
              "(5666, 8)"
            ]
          },
          "metadata": {},
          "execution_count": 12
        }
      ]
    },
    {
      "cell_type": "code",
      "source": [
        "# Reduzindo o dataset apenas ao texto e à classificação combinada\n",
        "df = df.loc[:, ['text','hatespeech_comb']]"
      ],
      "metadata": {
        "id": "IUEi_T6nXc6E"
      },
      "execution_count": null,
      "outputs": []
    },
    {
      "cell_type": "markdown",
      "source": [
        "## **Checando a Distribuição dos Dados**"
      ],
      "metadata": {
        "id": "RI0s_FcjNuxJ"
      }
    },
    {
      "cell_type": "code",
      "source": [
        "fig, ax = plt.subplots()\n",
        "ax.bar(['Hate speech', 'No hate speech'], df['hatespeech_comb'].value_counts(), color = ['#E63946', '#457B9D'])\n",
        "ax.set_axisbelow(True)\n",
        "ax.grid(True, axis = 'y')\n",
        "\n",
        "for location in ['top', 'bottom', 'left', 'right']:\n",
        "    ax.spines[location].set_visible(False)\n",
        "    \n",
        "plt.xticks(fontsize = 10, color = '#343A40')\n",
        "plt.yticks(fontsize = 10, color = '#343A40')\n",
        "ax.tick_params(color = 'white')"
      ],
      "metadata": {
        "colab": {
          "base_uri": "https://localhost:8080/",
          "height": 265
        },
        "id": "RR4m20ZqN2iO",
        "outputId": "499f4241-90ab-4150-c06a-636afc4a54d2"
      },
      "execution_count": null,
      "outputs": [
        {
          "output_type": "display_data",
          "data": {
            "text/plain": [
              "<Figure size 432x288 with 1 Axes>"
            ],
            "image/png": "[encoded data removed]"
          },
          "metadata": {
            "needs_background": "light"
          }
        }
      ]
    },
    {
      "cell_type": "markdown",
      "source": [
        "Como podemos observar, os dados não estão balanceados - o número de tweets classificados como discurso de ódio é quase o dobro daqueles que não representam falas de ódio. \n",
        "\n",
        "Uma forma de contornar esta situação sem perder informações, é realizar um oversampling para a classe que está em menor quantidade, no caso, tweets que não são discurso de ódio, direcionado para os dados de **treino**, o que será aplicado mais adiante no projeto."
      ],
      "metadata": {
        "id": "duqtJlHiQP3K"
      }
    },
    {
      "cell_type": "markdown",
      "source": [
        "## **Pré-processamento e Distinção entre Conjuntos de Dados**"
      ],
      "metadata": {
        "id": "FWmq3bDYQBub"
      }
    },
    {
      "cell_type": "markdown",
      "source": [
        "**1ª fase:** Nesta etapa iremos converter o texto para caracteres minúsculos, retirar pontuações, números, espaços e stop words. Além disso, por se tratarem de tweets, é interessante remover os nomes de usuário e hiperlinks via regex."
      ],
      "metadata": {
        "id": "hDXBlnvvbg7T"
      }
    },
    {
      "cell_type": "code",
      "source": [
        "# Importando as stopwords\n",
        "stop_words = set(stopwords.words(\"portuguese\"))\n",
        "\n",
        "# Definindo nlp\n",
        "nlp = spacy.load('pt_core_news_sm')\n",
        "\n",
        "# Regex para retirar nomes de usuário, hiperlinks e números\n",
        "text_regex = \"@\\S+|https?:\\S+|http?:\\S|[0-9]\" "
      ],
      "metadata": {
        "id": "Y_2L-kbuQF7j"
      },
      "execution_count": null,
      "outputs": []
    },
    {
      "cell_type": "code",
      "source": [
        "# Construindo a função de pré-processamento\n",
        "def processing_text(text):\n",
        "\n",
        "  # Retirando o \\n (novo parágrafo)\n",
        "  text = text.replace('\\n',' ')\n",
        "\n",
        "  # Retirando espaços\n",
        "  text = text.strip()\n",
        "  \n",
        "  # Fazendo remoções pela regex e convertendo para minúsculo\n",
        "  text = re.sub(text_regex, ' ', str(text).lower())\n",
        "\n",
        "  # Fazendo a tokenização do texto (transformação p/ objeto token)\n",
        "  text = nlp(text)\n",
        "\n",
        "  # Retirando a pontuação\n",
        "  text_clean = [token.orth_ for token in text if not token.is_punct]\n",
        "\n",
        "  # Retirando as stop words\n",
        "  text_clean = [word for word in text_clean if word not in stop_words]\n",
        "\n",
        "  return ' '.join(text_clean)"
      ],
      "metadata": {
        "id": "9xLnUhLsQGgu"
      },
      "execution_count": null,
      "outputs": []
    },
    {
      "cell_type": "code",
      "source": [
        "# Aplicando ao dataset\n",
        "df.text = df.text.apply(processing_text)"
      ],
      "metadata": {
        "id": "KeQBVevgS2DP"
      },
      "execution_count": null,
      "outputs": []
    },
    {
      "cell_type": "code",
      "source": [
        "df.head()"
      ],
      "metadata": {
        "colab": {
          "base_uri": "https://localhost:8080/",
          "height": 206
        },
        "id": "315H_qQDcUie",
        "outputId": "23c6234a-adae-4fa0-cdc6-ba613f0c6ef5"
      },
      "execution_count": null,
      "outputs": [
        {
          "output_type": "execute_result",
          "data": {
            "text/plain": [
              "                                                text  hatespeech_comb\n",
              "0      cara vive outro mundo mundo real refugiado...                1\n",
              "1     incompetentes cuidam povo brasileiro poucos...                0\n",
              "2                  cumpanhero quebraram todas regras                0\n",
              "3     conseguem pensar sentido lato além vê frent...                0\n",
              "4                         bom dia macaco branco haha                1"
            ],
            "text/html": [
              "\n",
              "  <div id=\"df-d005e67c-0f78-41aa-8c9b-bf0bcfb0a5e6\">\n",
              "    <div class=\"colab-df-container\">\n",
              "      <div>\n",
              "<style scoped>\n",
              "    .dataframe tbody tr th:only-of-type {\n",
              "        vertical-align: middle;\n",
              "    }\n",
              "\n",
              "    .dataframe tbody tr th {\n",
              "        vertical-align: top;\n",
              "    }\n",
              "\n",
              "    .dataframe thead th {\n",
              "        text-align: right;\n",
              "    }\n",
              "</style>\n",
              "<table border=\"1\" class=\"dataframe\">\n",
              "  <thead>\n",
              "    <tr style=\"text-align: right;\">\n",
              "      <th></th>\n",
              "      <th>text</th>\n",
              "      <th>hatespeech_comb</th>\n",
              "    </tr>\n",
              "  </thead>\n",
              "  <tbody>\n",
              "    <tr>\n",
              "      <th>0</th>\n",
              "      <td>cara vive outro mundo mundo real refugiado...</td>\n",
              "      <td>1</td>\n",
              "    </tr>\n",
              "    <tr>\n",
              "      <th>1</th>\n",
              "      <td>incompetentes cuidam povo brasileiro poucos...</td>\n",
              "      <td>0</td>\n",
              "    </tr>\n",
              "    <tr>\n",
              "      <th>2</th>\n",
              "      <td>cumpanhero quebraram todas regras</td>\n",
              "      <td>0</td>\n",
              "    </tr>\n",
              "    <tr>\n",
              "      <th>3</th>\n",
              "      <td>conseguem pensar sentido lato além vê frent...</td>\n",
              "      <td>0</td>\n",
              "    </tr>\n",
              "    <tr>\n",
              "      <th>4</th>\n",
              "      <td>bom dia macaco branco haha</td>\n",
              "      <td>1</td>\n",
              "    </tr>\n",
              "  </tbody>\n",
              "</table>\n",
              "</div>\n",
              "      <button class=\"colab-df-convert\" onclick=\"convertToInteractive('df-d005e67c-0f78-41aa-8c9b-bf0bcfb0a5e6')\"\n",
              "              title=\"Convert this dataframe to an interactive table.\"\n",
              "              style=\"display:none;\">\n",
              "        \n",
              "  <svg xmlns=\"http://www.w3.org/2000/svg\" height=\"24px\"viewBox=\"0 0 24 24\"\n",
              "       width=\"24px\">\n",
              "    <path d=\"M0 0h24v24H0V0z\" fill=\"none\"/>\n",
              "    <path d=\"M18.56 5.44l.94 2.06.94-2.06 2.06-.94-2.06-.94-.94-2.06-.94 2.06-2.06.94zm-11 1L8.5 8.5l.94-2.06 2.06-.94-2.06-.94L8.5 2.5l-.94 2.06-2.06.94zm10 10l.94 2.06.94-2.06 2.06-.94-2.06-.94-.94-2.06-.94 2.06-2.06.94z\"/><path d=\"M17.41 7.96l-1.37-1.37c-.4-.4-.92-.59-1.43-.59-.52 0-1.04.2-1.43.59L10.3 9.45l-7.72 7.72c-.78.78-.78 2.05 0 2.83L4 21.41c.39.39.9.59 1.41.59.51 0 1.02-.2 1.41-.59l7.78-7.78 2.81-2.81c.8-.78.8-2.07 0-2.86zM5.41 20L4 18.59l7.72-7.72 1.47 1.35L5.41 20z\"/>\n",
              "  </svg>\n",
              "      </button>\n",
              "      \n",
              "  <style>\n",
              "    .colab-df-container {\n",
              "      display:flex;\n",
              "      flex-wrap:wrap;\n",
              "      gap: 12px;\n",
              "    }\n",
              "\n",
              "    .colab-df-convert {\n",
              "      background-color: #E8F0FE;\n",
              "      border: none;\n",
              "      border-radius: 50%;\n",
              "      cursor: pointer;\n",
              "      display: none;\n",
              "      fill: #1967D2;\n",
              "      height: 32px;\n",
              "      padding: 0 0 0 0;\n",
              "      width: 32px;\n",
              "    }\n",
              "\n",
              "    .colab-df-convert:hover {\n",
              "      background-color: #E2EBFA;\n",
              "      box-shadow: 0px 1px 2px rgba(60, 64, 67, 0.3), 0px 1px 3px 1px rgba(60, 64, 67, 0.15);\n",
              "      fill: #174EA6;\n",
              "    }\n",
              "\n",
              "    [theme=dark] .colab-df-convert {\n",
              "      background-color: #3B4455;\n",
              "      fill: #D2E3FC;\n",
              "    }\n",
              "\n",
              "    [theme=dark] .colab-df-convert:hover {\n",
              "      background-color: #434B5C;\n",
              "      box-shadow: 0px 1px 3px 1px rgba(0, 0, 0, 0.15);\n",
              "      filter: drop-shadow(0px 1px 2px rgba(0, 0, 0, 0.3));\n",
              "      fill: #FFFFFF;\n",
              "    }\n",
              "  </style>\n",
              "\n",
              "      <script>\n",
              "        const buttonEl =\n",
              "          document.querySelector('#df-d005e67c-0f78-41aa-8c9b-bf0bcfb0a5e6 button.colab-df-convert');\n",
              "        buttonEl.style.display =\n",
              "          google.colab.kernel.accessAllowed ? 'block' : 'none';\n",
              "\n",
              "        async function convertToInteractive(key) {\n",
              "          const element = document.querySelector('#df-d005e67c-0f78-41aa-8c9b-bf0bcfb0a5e6');\n",
              "          const dataTable =\n",
              "            await google.colab.kernel.invokeFunction('convertToInteractive',\n",
              "                                                     [key], {});\n",
              "          if (!dataTable) return;\n",
              "\n",
              "          const docLinkHtml = 'Like what you see? Visit the ' +\n",
              "            '<a target=\"_blank\" href=https://colab.research.google.com/notebooks/data_table.ipynb>data table notebook</a>'\n",
              "            + ' to learn more about interactive tables.';\n",
              "          element.innerHTML = '';\n",
              "          dataTable['output_type'] = 'display_data';\n",
              "          await google.colab.output.renderOutput(dataTable, element);\n",
              "          const docLink = document.createElement('div');\n",
              "          docLink.innerHTML = docLinkHtml;\n",
              "          element.appendChild(docLink);\n",
              "        }\n",
              "      </script>\n",
              "    </div>\n",
              "  </div>\n",
              "  "
            ]
          },
          "metadata": {},
          "execution_count": 18
        }
      ]
    },
    {
      "cell_type": "code",
      "source": [
        "# Salvando os tweets pré-processados em um csv\n",
        "df.to_csv('/content/drive/MyDrive/Santander Coders/Case PLN/clean_tweets.csv')"
      ],
      "metadata": {
        "id": "WlSj077Qf3p4"
      },
      "execution_count": null,
      "outputs": []
    },
    {
      "cell_type": "markdown",
      "source": [
        "**2ª fase:** Nesta etapa um conjunto de treino será separado para que posteriormente a ele seja aplicada as transformações e a configuração de modelo com melhor desempenho. Esta seleção será feita com base nos conjuntos de validação a serem gerados adiante."
      ],
      "metadata": {
        "id": "cyhO4rVPAQfN"
      }
    },
    {
      "cell_type": "code",
      "source": [
        "train_data, test_data = train_test_split(df, test_size = 0.2, random_state = 42)\n",
        "\n",
        "print(f'Dimensões do conjunto de treino: {train_data.shape}')\n",
        "print(f'Dimensões do conjunto de teste: {test_data.shape}')"
      ],
      "metadata": {
        "colab": {
          "base_uri": "https://localhost:8080/"
        },
        "id": "pfXpwrizAQ5X",
        "outputId": "ce53445d-9623-4c5b-df3b-4e3a3eda90b1"
      },
      "execution_count": null,
      "outputs": [
        {
          "output_type": "stream",
          "name": "stdout",
          "text": [
            "Dimensões do conjunto de treino: (4532, 2)\n",
            "Dimensões do conjunto de teste: (1134, 2)\n"
          ]
        }
      ]
    },
    {
      "cell_type": "markdown",
      "source": [
        "**3ª fase:** Nesta última etapa, iremos gerar quatro conjuntos de dados seguindo diferentes condições para encontrar os radicais das palavras:\n",
        "- Um conjunto lematizado e stemizado (`df_1`);\n",
        "- Um conjunto apenas stemizado (`df_2`);\n",
        "- Um conjunto lematizado (`df_3`);\n",
        "- Um conjunto sem nenhum tipo de transformação neste sentido (`df_4`)."
      ],
      "metadata": {
        "id": "NlRqzRZje60J"
      }
    },
    {
      "cell_type": "code",
      "source": [
        "# Iniciando o objeto para stemização\n",
        "stemmer = SnowballStemmer('portuguese')\n",
        "\n",
        "# Definindo as funções de lematização e stemização:\n",
        "def lemmatiza(text):\n",
        "  tokens = nlp(text)\n",
        "  tokens = [token.lemma_ for token in tokens]\n",
        "  return ' '.join(tokens)\n",
        "\n",
        "def stemmiza(text):\n",
        "  words = [stemmer.stem(word) for word in text.split()]\n",
        "  return ' '.join(words)  "
      ],
      "metadata": {
        "id": "0oyuyVNhcSSP"
      },
      "execution_count": null,
      "outputs": []
    },
    {
      "cell_type": "code",
      "source": [
        "# Conjunto lematizado/stemizado\n",
        "df_1 = train_data.copy()\n",
        "df_1.text = df_1.text.apply(lemmatiza)\n",
        "df_1.text = df_1.text.apply(stemmiza)"
      ],
      "metadata": {
        "id": "E_3rGfrKcTJj"
      },
      "execution_count": null,
      "outputs": []
    },
    {
      "cell_type": "code",
      "source": [
        "# Conjunto stemizado\n",
        "df_2 = train_data.copy()\n",
        "df_2.text = df_2.text.apply(stemmiza)"
      ],
      "metadata": {
        "id": "hE4_Kyrioj-G"
      },
      "execution_count": null,
      "outputs": []
    },
    {
      "cell_type": "code",
      "source": [
        "# Conjunto lematizado\n",
        "df_3 = train_data.copy()\n",
        "df_3.text = df_3.text.apply(lemmatiza)"
      ],
      "metadata": {
        "id": "iO-bunFcokfU"
      },
      "execution_count": null,
      "outputs": []
    },
    {
      "cell_type": "code",
      "source": [
        "# Conjunto sem transformações\n",
        "df_4 = train_data.copy()"
      ],
      "metadata": {
        "id": "HClKCNfrok5e"
      },
      "execution_count": null,
      "outputs": []
    },
    {
      "cell_type": "markdown",
      "source": [
        "## **Wordcloud**"
      ],
      "metadata": {
        "id": "CNr3ZeuVVI9G"
      }
    },
    {
      "cell_type": "markdown",
      "source": [
        "Antes de prosseguirmos com a implementação de modelos, é interessante observarmos quais palavras estão presentes em maior frequência nos tweets classificados como discurso de ódio."
      ],
      "metadata": {
        "id": "0Ubv4ZqICRXQ"
      }
    },
    {
      "cell_type": "code",
      "source": [
        "df = pd.read_csv('/content/drive/MyDrive/Santander Coders/Case PLN/clean_tweets.csv')"
      ],
      "metadata": {
        "id": "aviv7Rm9WePQ"
      },
      "execution_count": null,
      "outputs": []
    },
    {
      "cell_type": "code",
      "source": [
        "# Função para mudar as cores das palavras:\n",
        "def random_color_func(word=None, font_size=None, position=None, orientation=None, font_path=None, random_state=None):\n",
        "    list_colors = ['#B7094C','#A01A58','#892B64','#723C70','#5C4D7D','#455E89','#2E6F95','#1780A1','#0091AD']\n",
        "    np.random.seed(42)\n",
        "    color = random.choice(list_colors)\n",
        "\n",
        "    return color"
      ],
      "metadata": {
        "id": "4PvolmwBIzl3"
      },
      "execution_count": null,
      "outputs": []
    },
    {
      "cell_type": "code",
      "source": [
        "hate_texts = ' '.join((df.loc[df['hatespeech_comb'] == 1, 'text']).to_list())\n",
        "word_cloud = WordCloud(max_words=2000, width = 800, height = 400, color_func = random_color_func, collocations = False).generate(hate_texts)\n",
        "\n",
        "plt.figure(figsize=(10,10))\n",
        "plt.imshow(word_cloud, interpolation='bilinear')\n",
        "plt.axis('off')\n",
        "plt.show()"
      ],
      "metadata": {
        "colab": {
          "base_uri": "https://localhost:8080/",
          "height": 310
        },
        "id": "dnK6voRaVa6U",
        "outputId": "d8dd6e1b-594c-4b4b-aeb6-45803b98adde"
      },
      "execution_count": null,
      "outputs": [
        {
          "output_type": "display_data",
          "data": {
            "text/plain": [
              "<Figure size 720x720 with 1 Axes>"
            ],
            "image/png": "[encoded data removed]"
          },
          "metadata": {
            "needs_background": "light"
          }
        }
      ]
    },
    {
      "cell_type": "markdown",
      "source": [
        "Embora estejam presentes muitas palavras comuns e muito utilizadas no português (\"pra\", \"ser\", \"vc\"), percebe-se que **a maior parte dos tweets classifcados como discurso de ódio possuem como alvo o público feminino**."
      ],
      "metadata": {
        "id": "r9Q4vlZfE4vN"
      }
    },
    {
      "cell_type": "markdown",
      "source": [
        "## **Transformando Textos em Sequências Numéricas**"
      ],
      "metadata": {
        "id": "zR9xOQ-HFbQm"
      }
    },
    {
      "cell_type": "markdown",
      "source": [
        "Antes de implementarmos um modelo de redes neurais, devemos transformar cada tweet em uma sequência de números utilizando o tokenizador da biblioteca keras."
      ],
      "metadata": {
        "id": "1LIGpJtGHfFg"
      }
    },
    {
      "cell_type": "code",
      "source": [
        "# Verificando o tamanho máximo entre todos os tweets\n",
        "print(max(df.text.apply(len)))"
      ],
      "metadata": {
        "colab": {
          "base_uri": "https://localhost:8080/"
        },
        "id": "VgbubfgUTqAJ",
        "outputId": "f6c4d079-a095-4885-b326-8183942bb1f4"
      },
      "execution_count": null,
      "outputs": [
        {
          "output_type": "stream",
          "name": "stdout",
          "text": [
            "131\n"
          ]
        }
      ]
    },
    {
      "cell_type": "code",
      "source": [
        "# A primeira etapa deve ser dividir os datasets em treino e teste, uma vez que a tokenização deve ocorrer no treino e ser aplicada ao teste.\n",
        "max_nb_words = 1000000\n",
        "max_seq_length = 131\n",
        "\n",
        "train_data_1, val_data_1 = train_test_split(df_1, test_size = 0.2, random_state = 42)\n",
        "train_data_2, val_data_2 = train_test_split(df_2, test_size = 0.2, random_state = 42)\n",
        "train_data_3, val_data_3 = train_test_split(df_3, test_size = 0.2, random_state = 42)\n",
        "train_data_4, val_data_4 = train_test_split(df_4, test_size = 0.2, random_state = 42)"
      ],
      "metadata": {
        "id": "nNKS11rEHr1b"
      },
      "execution_count": null,
      "outputs": []
    },
    {
      "cell_type": "markdown",
      "source": [
        "Conforme afirmado anteriormente, a fim de evitar a má performance do modelo ou a diminuição de sua capacidade aprendizado, um oversampling da classe minoritária deve ser feito nos dados de treinamento, para cada um dos datasets criados.\n",
        "\n",
        "A técnica de Random Over Sampling será utilizada."
      ],
      "metadata": {
        "id": "NTA29y1BcN47"
      }
    },
    {
      "cell_type": "code",
      "source": [
        "# Conjunto 1 - Stemizado/Lematizado\n",
        "X_1 = np.array(train_data_1['text']).reshape(-1,1)\n",
        "y_1 = train_data_1['hatespeech_comb']\n",
        "ros_1 = RandomOverSampler(random_state = 42)\n",
        "X_resampled_1, y_resampled_1 = ros_1.fit_resample(X_1,y_1)"
      ],
      "metadata": {
        "id": "vbRlj2q1bREp"
      },
      "execution_count": null,
      "outputs": []
    },
    {
      "cell_type": "code",
      "source": [
        "train_data_1 = pd.DataFrame(X_resampled_1, y_resampled_1).reset_index()\n",
        "train_data_1.columns = ['hatespeech_comb', 'text']\n",
        "train_data_1.head(3)"
      ],
      "metadata": {
        "id": "vnKxipYwbRa_",
        "colab": {
          "base_uri": "https://localhost:8080/",
          "height": 143
        },
        "outputId": "a84c8026-1c13-4e58-a782-a7b5dbc46bd9"
      },
      "execution_count": null,
      "outputs": [
        {
          "output_type": "execute_result",
          "data": {
            "text/plain": [
              "   hatespeech_comb                                    text\n",
              "0                0  val pen ler text ronald laranjeir show\n",
              "1                0      fã d mulh cozinh telh masterchefbr\n",
              "2                0              agor sim lisbo pront comec"
            ],
            "text/html": [
              "\n",
              "  <div id=\"df-1700f700-db56-4088-86b4-1b2bc2d3a3c7\">\n",
              "    <div class=\"colab-df-container\">\n",
              "      <div>\n",
              "<style scoped>\n",
              "    .dataframe tbody tr th:only-of-type {\n",
              "        vertical-align: middle;\n",
              "    }\n",
              "\n",
              "    .dataframe tbody tr th {\n",
              "        vertical-align: top;\n",
              "    }\n",
              "\n",
              "    .dataframe thead th {\n",
              "        text-align: right;\n",
              "    }\n",
              "</style>\n",
              "<table border=\"1\" class=\"dataframe\">\n",
              "  <thead>\n",
              "    <tr style=\"text-align: right;\">\n",
              "      <th></th>\n",
              "      <th>hatespeech_comb</th>\n",
              "      <th>text</th>\n",
              "    </tr>\n",
              "  </thead>\n",
              "  <tbody>\n",
              "    <tr>\n",
              "      <th>0</th>\n",
              "      <td>0</td>\n",
              "      <td>val pen ler text ronald laranjeir show</td>\n",
              "    </tr>\n",
              "    <tr>\n",
              "      <th>1</th>\n",
              "      <td>0</td>\n",
              "      <td>fã d mulh cozinh telh masterchefbr</td>\n",
              "    </tr>\n",
              "    <tr>\n",
              "      <th>2</th>\n",
              "      <td>0</td>\n",
              "      <td>agor sim lisbo pront comec</td>\n",
              "    </tr>\n",
              "  </tbody>\n",
              "</table>\n",
              "</div>\n",
              "      <button class=\"colab-df-convert\" onclick=\"convertToInteractive('df-1700f700-db56-4088-86b4-1b2bc2d3a3c7')\"\n",
              "              title=\"Convert this dataframe to an interactive table.\"\n",
              "              style=\"display:none;\">\n",
              "        \n",
              "  <svg xmlns=\"http://www.w3.org/2000/svg\" height=\"24px\"viewBox=\"0 0 24 24\"\n",
              "       width=\"24px\">\n",
              "    <path d=\"M0 0h24v24H0V0z\" fill=\"none\"/>\n",
              "    <path d=\"M18.56 5.44l.94 2.06.94-2.06 2.06-.94-2.06-.94-.94-2.06-.94 2.06-2.06.94zm-11 1L8.5 8.5l.94-2.06 2.06-.94-2.06-.94L8.5 2.5l-.94 2.06-2.06.94zm10 10l.94 2.06.94-2.06 2.06-.94-2.06-.94-.94-2.06-.94 2.06-2.06.94z\"/><path d=\"M17.41 7.96l-1.37-1.37c-.4-.4-.92-.59-1.43-.59-.52 0-1.04.2-1.43.59L10.3 9.45l-7.72 7.72c-.78.78-.78 2.05 0 2.83L4 21.41c.39.39.9.59 1.41.59.51 0 1.02-.2 1.41-.59l7.78-7.78 2.81-2.81c.8-.78.8-2.07 0-2.86zM5.41 20L4 18.59l7.72-7.72 1.47 1.35L5.41 20z\"/>\n",
              "  </svg>\n",
              "      </button>\n",
              "      \n",
              "  <style>\n",
              "    .colab-df-container {\n",
              "      display:flex;\n",
              "      flex-wrap:wrap;\n",
              "      gap: 12px;\n",
              "    }\n",
              "\n",
              "    .colab-df-convert {\n",
              "      background-color: #E8F0FE;\n",
              "      border: none;\n",
              "      border-radius: 50%;\n",
              "      cursor: pointer;\n",
              "      display: none;\n",
              "      fill: #1967D2;\n",
              "      height: 32px;\n",
              "      padding: 0 0 0 0;\n",
              "      width: 32px;\n",
              "    }\n",
              "\n",
              "    .colab-df-convert:hover {\n",
              "      background-color: #E2EBFA;\n",
              "      box-shadow: 0px 1px 2px rgba(60, 64, 67, 0.3), 0px 1px 3px 1px rgba(60, 64, 67, 0.15);\n",
              "      fill: #174EA6;\n",
              "    }\n",
              "\n",
              "    [theme=dark] .colab-df-convert {\n",
              "      background-color: #3B4455;\n",
              "      fill: #D2E3FC;\n",
              "    }\n",
              "\n",
              "    [theme=dark] .colab-df-convert:hover {\n",
              "      background-color: #434B5C;\n",
              "      box-shadow: 0px 1px 3px 1px rgba(0, 0, 0, 0.15);\n",
              "      filter: drop-shadow(0px 1px 2px rgba(0, 0, 0, 0.3));\n",
              "      fill: #FFFFFF;\n",
              "    }\n",
              "  </style>\n",
              "\n",
              "      <script>\n",
              "        const buttonEl =\n",
              "          document.querySelector('#df-1700f700-db56-4088-86b4-1b2bc2d3a3c7 button.colab-df-convert');\n",
              "        buttonEl.style.display =\n",
              "          google.colab.kernel.accessAllowed ? 'block' : 'none';\n",
              "\n",
              "        async function convertToInteractive(key) {\n",
              "          const element = document.querySelector('#df-1700f700-db56-4088-86b4-1b2bc2d3a3c7');\n",
              "          const dataTable =\n",
              "            await google.colab.kernel.invokeFunction('convertToInteractive',\n",
              "                                                     [key], {});\n",
              "          if (!dataTable) return;\n",
              "\n",
              "          const docLinkHtml = 'Like what you see? Visit the ' +\n",
              "            '<a target=\"_blank\" href=https://colab.research.google.com/notebooks/data_table.ipynb>data table notebook</a>'\n",
              "            + ' to learn more about interactive tables.';\n",
              "          element.innerHTML = '';\n",
              "          dataTable['output_type'] = 'display_data';\n",
              "          await google.colab.output.renderOutput(dataTable, element);\n",
              "          const docLink = document.createElement('div');\n",
              "          docLink.innerHTML = docLinkHtml;\n",
              "          element.appendChild(docLink);\n",
              "        }\n",
              "      </script>\n",
              "    </div>\n",
              "  </div>\n",
              "  "
            ]
          },
          "metadata": {},
          "execution_count": 33
        }
      ]
    },
    {
      "cell_type": "code",
      "source": [
        "# Conjunto 2 - Stemizado\n",
        "X_2 = np.array(train_data_2['text']).reshape(-1,1)\n",
        "y_2 = train_data_2['hatespeech_comb']\n",
        "ros_2 = RandomOverSampler(random_state = 42)\n",
        "X_resampled_2, y_resampled_2 = ros_2.fit_resample(X_2,y_2)"
      ],
      "metadata": {
        "id": "VfJnq0-jcs_B"
      },
      "execution_count": null,
      "outputs": []
    },
    {
      "cell_type": "code",
      "source": [
        "train_data_2 = pd.DataFrame(X_resampled_2, y_resampled_2).reset_index()\n",
        "train_data_2.columns = ['hatespeech_comb', 'text']\n",
        "train_data_2.head(3)"
      ],
      "metadata": {
        "id": "32Av-9W1ctRZ",
        "colab": {
          "base_uri": "https://localhost:8080/",
          "height": 143
        },
        "outputId": "a4cca819-9160-443b-ecab-64975b371387"
      },
      "execution_count": null,
      "outputs": [
        {
          "output_type": "execute_result",
          "data": {
            "text/plain": [
              "   hatespeech_comb                                    text\n",
              "0                0  val pen ler text ronald laranjeir show\n",
              "1                0      fã d mulh cozinh telh masterchefbr\n",
              "2                0              agor sim lisbo pront comec"
            ],
            "text/html": [
              "\n",
              "  <div id=\"df-f0941e0d-acd5-4491-b0d4-9d5419e73adb\">\n",
              "    <div class=\"colab-df-container\">\n",
              "      <div>\n",
              "<style scoped>\n",
              "    .dataframe tbody tr th:only-of-type {\n",
              "        vertical-align: middle;\n",
              "    }\n",
              "\n",
              "    .dataframe tbody tr th {\n",
              "        vertical-align: top;\n",
              "    }\n",
              "\n",
              "    .dataframe thead th {\n",
              "        text-align: right;\n",
              "    }\n",
              "</style>\n",
              "<table border=\"1\" class=\"dataframe\">\n",
              "  <thead>\n",
              "    <tr style=\"text-align: right;\">\n",
              "      <th></th>\n",
              "      <th>hatespeech_comb</th>\n",
              "      <th>text</th>\n",
              "    </tr>\n",
              "  </thead>\n",
              "  <tbody>\n",
              "    <tr>\n",
              "      <th>0</th>\n",
              "      <td>0</td>\n",
              "      <td>val pen ler text ronald laranjeir show</td>\n",
              "    </tr>\n",
              "    <tr>\n",
              "      <th>1</th>\n",
              "      <td>0</td>\n",
              "      <td>fã d mulh cozinh telh masterchefbr</td>\n",
              "    </tr>\n",
              "    <tr>\n",
              "      <th>2</th>\n",
              "      <td>0</td>\n",
              "      <td>agor sim lisbo pront comec</td>\n",
              "    </tr>\n",
              "  </tbody>\n",
              "</table>\n",
              "</div>\n",
              "      <button class=\"colab-df-convert\" onclick=\"convertToInteractive('df-f0941e0d-acd5-4491-b0d4-9d5419e73adb')\"\n",
              "              title=\"Convert this dataframe to an interactive table.\"\n",
              "              style=\"display:none;\">\n",
              "        \n",
              "  <svg xmlns=\"http://www.w3.org/2000/svg\" height=\"24px\"viewBox=\"0 0 24 24\"\n",
              "       width=\"24px\">\n",
              "    <path d=\"M0 0h24v24H0V0z\" fill=\"none\"/>\n",
              "    <path d=\"M18.56 5.44l.94 2.06.94-2.06 2.06-.94-2.06-.94-.94-2.06-.94 2.06-2.06.94zm-11 1L8.5 8.5l.94-2.06 2.06-.94-2.06-.94L8.5 2.5l-.94 2.06-2.06.94zm10 10l.94 2.06.94-2.06 2.06-.94-2.06-.94-.94-2.06-.94 2.06-2.06.94z\"/><path d=\"M17.41 7.96l-1.37-1.37c-.4-.4-.92-.59-1.43-.59-.52 0-1.04.2-1.43.59L10.3 9.45l-7.72 7.72c-.78.78-.78 2.05 0 2.83L4 21.41c.39.39.9.59 1.41.59.51 0 1.02-.2 1.41-.59l7.78-7.78 2.81-2.81c.8-.78.8-2.07 0-2.86zM5.41 20L4 18.59l7.72-7.72 1.47 1.35L5.41 20z\"/>\n",
              "  </svg>\n",
              "      </button>\n",
              "      \n",
              "  <style>\n",
              "    .colab-df-container {\n",
              "      display:flex;\n",
              "      flex-wrap:wrap;\n",
              "      gap: 12px;\n",
              "    }\n",
              "\n",
              "    .colab-df-convert {\n",
              "      background-color: #E8F0FE;\n",
              "      border: none;\n",
              "      border-radius: 50%;\n",
              "      cursor: pointer;\n",
              "      display: none;\n",
              "      fill: #1967D2;\n",
              "      height: 32px;\n",
              "      padding: 0 0 0 0;\n",
              "      width: 32px;\n",
              "    }\n",
              "\n",
              "    .colab-df-convert:hover {\n",
              "      background-color: #E2EBFA;\n",
              "      box-shadow: 0px 1px 2px rgba(60, 64, 67, 0.3), 0px 1px 3px 1px rgba(60, 64, 67, 0.15);\n",
              "      fill: #174EA6;\n",
              "    }\n",
              "\n",
              "    [theme=dark] .colab-df-convert {\n",
              "      background-color: #3B4455;\n",
              "      fill: #D2E3FC;\n",
              "    }\n",
              "\n",
              "    [theme=dark] .colab-df-convert:hover {\n",
              "      background-color: #434B5C;\n",
              "      box-shadow: 0px 1px 3px 1px rgba(0, 0, 0, 0.15);\n",
              "      filter: drop-shadow(0px 1px 2px rgba(0, 0, 0, 0.3));\n",
              "      fill: #FFFFFF;\n",
              "    }\n",
              "  </style>\n",
              "\n",
              "      <script>\n",
              "        const buttonEl =\n",
              "          document.querySelector('#df-f0941e0d-acd5-4491-b0d4-9d5419e73adb button.colab-df-convert');\n",
              "        buttonEl.style.display =\n",
              "          google.colab.kernel.accessAllowed ? 'block' : 'none';\n",
              "\n",
              "        async function convertToInteractive(key) {\n",
              "          const element = document.querySelector('#df-f0941e0d-acd5-4491-b0d4-9d5419e73adb');\n",
              "          const dataTable =\n",
              "            await google.colab.kernel.invokeFunction('convertToInteractive',\n",
              "                                                     [key], {});\n",
              "          if (!dataTable) return;\n",
              "\n",
              "          const docLinkHtml = 'Like what you see? Visit the ' +\n",
              "            '<a target=\"_blank\" href=https://colab.research.google.com/notebooks/data_table.ipynb>data table notebook</a>'\n",
              "            + ' to learn more about interactive tables.';\n",
              "          element.innerHTML = '';\n",
              "          dataTable['output_type'] = 'display_data';\n",
              "          await google.colab.output.renderOutput(dataTable, element);\n",
              "          const docLink = document.createElement('div');\n",
              "          docLink.innerHTML = docLinkHtml;\n",
              "          element.appendChild(docLink);\n",
              "        }\n",
              "      </script>\n",
              "    </div>\n",
              "  </div>\n",
              "  "
            ]
          },
          "metadata": {},
          "execution_count": 35
        }
      ]
    },
    {
      "cell_type": "code",
      "source": [
        "# Conjunto 3 - Lematizado\n",
        "X_3 = np.array(train_data_3['text']).reshape(-1,1)\n",
        "y_3 = train_data_3['hatespeech_comb']\n",
        "ros_3 = RandomOverSampler(random_state = 42)\n",
        "X_resampled_3, y_resampled_3 = ros_3.fit_resample(X_3,y_3)"
      ],
      "metadata": {
        "id": "yp6QcsRHctn7"
      },
      "execution_count": null,
      "outputs": []
    },
    {
      "cell_type": "code",
      "source": [
        "train_data_3 = pd.DataFrame(X_resampled_3, y_resampled_3).reset_index()\n",
        "train_data_3.columns = ['hatespeech_comb', 'text']\n",
        "train_data_3.head(3)"
      ],
      "metadata": {
        "id": "mFm8gp06ct3o",
        "colab": {
          "base_uri": "https://localhost:8080/",
          "height": 143
        },
        "outputId": "f8232a9c-ae55-4274-88af-5fb9e10552c6"
      },
      "execution_count": null,
      "outputs": [
        {
          "output_type": "execute_result",
          "data": {
            "text/plain": [
              "   hatespeech_comb                                            text\n",
              "0                0  valer peno ler texto ronaldo laranjeira show  \n",
              "1                0        fã d mulher cozinhar telhar masterchefbr\n",
              "2                0               agora sim lisboa pronto começar  "
            ],
            "text/html": [
              "\n",
              "  <div id=\"df-7a7b9a8a-add8-41b2-9468-c4a3f3a808a4\">\n",
              "    <div class=\"colab-df-container\">\n",
              "      <div>\n",
              "<style scoped>\n",
              "    .dataframe tbody tr th:only-of-type {\n",
              "        vertical-align: middle;\n",
              "    }\n",
              "\n",
              "    .dataframe tbody tr th {\n",
              "        vertical-align: top;\n",
              "    }\n",
              "\n",
              "    .dataframe thead th {\n",
              "        text-align: right;\n",
              "    }\n",
              "</style>\n",
              "<table border=\"1\" class=\"dataframe\">\n",
              "  <thead>\n",
              "    <tr style=\"text-align: right;\">\n",
              "      <th></th>\n",
              "      <th>hatespeech_comb</th>\n",
              "      <th>text</th>\n",
              "    </tr>\n",
              "  </thead>\n",
              "  <tbody>\n",
              "    <tr>\n",
              "      <th>0</th>\n",
              "      <td>0</td>\n",
              "      <td>valer peno ler texto ronaldo laranjeira show</td>\n",
              "    </tr>\n",
              "    <tr>\n",
              "      <th>1</th>\n",
              "      <td>0</td>\n",
              "      <td>fã d mulher cozinhar telhar masterchefbr</td>\n",
              "    </tr>\n",
              "    <tr>\n",
              "      <th>2</th>\n",
              "      <td>0</td>\n",
              "      <td>agora sim lisboa pronto começar</td>\n",
              "    </tr>\n",
              "  </tbody>\n",
              "</table>\n",
              "</div>\n",
              "      <button class=\"colab-df-convert\" onclick=\"convertToInteractive('df-7a7b9a8a-add8-41b2-9468-c4a3f3a808a4')\"\n",
              "              title=\"Convert this dataframe to an interactive table.\"\n",
              "              style=\"display:none;\">\n",
              "        \n",
              "  <svg xmlns=\"http://www.w3.org/2000/svg\" height=\"24px\"viewBox=\"0 0 24 24\"\n",
              "       width=\"24px\">\n",
              "    <path d=\"M0 0h24v24H0V0z\" fill=\"none\"/>\n",
              "    <path d=\"M18.56 5.44l.94 2.06.94-2.06 2.06-.94-2.06-.94-.94-2.06-.94 2.06-2.06.94zm-11 1L8.5 8.5l.94-2.06 2.06-.94-2.06-.94L8.5 2.5l-.94 2.06-2.06.94zm10 10l.94 2.06.94-2.06 2.06-.94-2.06-.94-.94-2.06-.94 2.06-2.06.94z\"/><path d=\"M17.41 7.96l-1.37-1.37c-.4-.4-.92-.59-1.43-.59-.52 0-1.04.2-1.43.59L10.3 9.45l-7.72 7.72c-.78.78-.78 2.05 0 2.83L4 21.41c.39.39.9.59 1.41.59.51 0 1.02-.2 1.41-.59l7.78-7.78 2.81-2.81c.8-.78.8-2.07 0-2.86zM5.41 20L4 18.59l7.72-7.72 1.47 1.35L5.41 20z\"/>\n",
              "  </svg>\n",
              "      </button>\n",
              "      \n",
              "  <style>\n",
              "    .colab-df-container {\n",
              "      display:flex;\n",
              "      flex-wrap:wrap;\n",
              "      gap: 12px;\n",
              "    }\n",
              "\n",
              "    .colab-df-convert {\n",
              "      background-color: #E8F0FE;\n",
              "      border: none;\n",
              "      border-radius: 50%;\n",
              "      cursor: pointer;\n",
              "      display: none;\n",
              "      fill: #1967D2;\n",
              "      height: 32px;\n",
              "      padding: 0 0 0 0;\n",
              "      width: 32px;\n",
              "    }\n",
              "\n",
              "    .colab-df-convert:hover {\n",
              "      background-color: #E2EBFA;\n",
              "      box-shadow: 0px 1px 2px rgba(60, 64, 67, 0.3), 0px 1px 3px 1px rgba(60, 64, 67, 0.15);\n",
              "      fill: #174EA6;\n",
              "    }\n",
              "\n",
              "    [theme=dark] .colab-df-convert {\n",
              "      background-color: #3B4455;\n",
              "      fill: #D2E3FC;\n",
              "    }\n",
              "\n",
              "    [theme=dark] .colab-df-convert:hover {\n",
              "      background-color: #434B5C;\n",
              "      box-shadow: 0px 1px 3px 1px rgba(0, 0, 0, 0.15);\n",
              "      filter: drop-shadow(0px 1px 2px rgba(0, 0, 0, 0.3));\n",
              "      fill: #FFFFFF;\n",
              "    }\n",
              "  </style>\n",
              "\n",
              "      <script>\n",
              "        const buttonEl =\n",
              "          document.querySelector('#df-7a7b9a8a-add8-41b2-9468-c4a3f3a808a4 button.colab-df-convert');\n",
              "        buttonEl.style.display =\n",
              "          google.colab.kernel.accessAllowed ? 'block' : 'none';\n",
              "\n",
              "        async function convertToInteractive(key) {\n",
              "          const element = document.querySelector('#df-7a7b9a8a-add8-41b2-9468-c4a3f3a808a4');\n",
              "          const dataTable =\n",
              "            await google.colab.kernel.invokeFunction('convertToInteractive',\n",
              "                                                     [key], {});\n",
              "          if (!dataTable) return;\n",
              "\n",
              "          const docLinkHtml = 'Like what you see? Visit the ' +\n",
              "            '<a target=\"_blank\" href=https://colab.research.google.com/notebooks/data_table.ipynb>data table notebook</a>'\n",
              "            + ' to learn more about interactive tables.';\n",
              "          element.innerHTML = '';\n",
              "          dataTable['output_type'] = 'display_data';\n",
              "          await google.colab.output.renderOutput(dataTable, element);\n",
              "          const docLink = document.createElement('div');\n",
              "          docLink.innerHTML = docLinkHtml;\n",
              "          element.appendChild(docLink);\n",
              "        }\n",
              "      </script>\n",
              "    </div>\n",
              "  </div>\n",
              "  "
            ]
          },
          "metadata": {},
          "execution_count": 37
        }
      ]
    },
    {
      "cell_type": "code",
      "source": [
        "# Conjunto 4 - Sem tranformações\n",
        "X_4 = np.array(train_data_4['text']).reshape(-1,1)\n",
        "y_4 = train_data_4['hatespeech_comb']\n",
        "ros_4 = RandomOverSampler(random_state = 42)\n",
        "X_resampled_4, y_resampled_4 = ros_4.fit_resample(X_4,y_4)"
      ],
      "metadata": {
        "id": "xle6DW0vdX3L"
      },
      "execution_count": null,
      "outputs": []
    },
    {
      "cell_type": "code",
      "source": [
        "train_data_4 = pd.DataFrame(X_resampled_4, y_resampled_4).reset_index()\n",
        "train_data_4.columns = ['hatespeech_comb', 'text']\n",
        "train_data_4.head(3)"
      ],
      "metadata": {
        "id": "3Ew3E4rGdYJ3",
        "colab": {
          "base_uri": "https://localhost:8080/",
          "height": 143
        },
        "outputId": "51d6e946-cbf8-4c7c-dd13-9f6bf66dc17d"
      },
      "execution_count": null,
      "outputs": [
        {
          "output_type": "execute_result",
          "data": {
            "text/plain": [
              "   hatespeech_comb                                            text\n",
              "0                0  vale pena ler texto ronaldo laranjeiras show  \n",
              "1                0          fã d mulher cozinha telha masterchefbr\n",
              "2                0              agora sim lisboa prontos começar  "
            ],
            "text/html": [
              "\n",
              "  <div id=\"df-cf805010-107b-4f6b-baa5-5ca52d58b0bb\">\n",
              "    <div class=\"colab-df-container\">\n",
              "      <div>\n",
              "<style scoped>\n",
              "    .dataframe tbody tr th:only-of-type {\n",
              "        vertical-align: middle;\n",
              "    }\n",
              "\n",
              "    .dataframe tbody tr th {\n",
              "        vertical-align: top;\n",
              "    }\n",
              "\n",
              "    .dataframe thead th {\n",
              "        text-align: right;\n",
              "    }\n",
              "</style>\n",
              "<table border=\"1\" class=\"dataframe\">\n",
              "  <thead>\n",
              "    <tr style=\"text-align: right;\">\n",
              "      <th></th>\n",
              "      <th>hatespeech_comb</th>\n",
              "      <th>text</th>\n",
              "    </tr>\n",
              "  </thead>\n",
              "  <tbody>\n",
              "    <tr>\n",
              "      <th>0</th>\n",
              "      <td>0</td>\n",
              "      <td>vale pena ler texto ronaldo laranjeiras show</td>\n",
              "    </tr>\n",
              "    <tr>\n",
              "      <th>1</th>\n",
              "      <td>0</td>\n",
              "      <td>fã d mulher cozinha telha masterchefbr</td>\n",
              "    </tr>\n",
              "    <tr>\n",
              "      <th>2</th>\n",
              "      <td>0</td>\n",
              "      <td>agora sim lisboa prontos começar</td>\n",
              "    </tr>\n",
              "  </tbody>\n",
              "</table>\n",
              "</div>\n",
              "      <button class=\"colab-df-convert\" onclick=\"convertToInteractive('df-cf805010-107b-4f6b-baa5-5ca52d58b0bb')\"\n",
              "              title=\"Convert this dataframe to an interactive table.\"\n",
              "              style=\"display:none;\">\n",
              "        \n",
              "  <svg xmlns=\"http://www.w3.org/2000/svg\" height=\"24px\"viewBox=\"0 0 24 24\"\n",
              "       width=\"24px\">\n",
              "    <path d=\"M0 0h24v24H0V0z\" fill=\"none\"/>\n",
              "    <path d=\"M18.56 5.44l.94 2.06.94-2.06 2.06-.94-2.06-.94-.94-2.06-.94 2.06-2.06.94zm-11 1L8.5 8.5l.94-2.06 2.06-.94-2.06-.94L8.5 2.5l-.94 2.06-2.06.94zm10 10l.94 2.06.94-2.06 2.06-.94-2.06-.94-.94-2.06-.94 2.06-2.06.94z\"/><path d=\"M17.41 7.96l-1.37-1.37c-.4-.4-.92-.59-1.43-.59-.52 0-1.04.2-1.43.59L10.3 9.45l-7.72 7.72c-.78.78-.78 2.05 0 2.83L4 21.41c.39.39.9.59 1.41.59.51 0 1.02-.2 1.41-.59l7.78-7.78 2.81-2.81c.8-.78.8-2.07 0-2.86zM5.41 20L4 18.59l7.72-7.72 1.47 1.35L5.41 20z\"/>\n",
              "  </svg>\n",
              "      </button>\n",
              "      \n",
              "  <style>\n",
              "    .colab-df-container {\n",
              "      display:flex;\n",
              "      flex-wrap:wrap;\n",
              "      gap: 12px;\n",
              "    }\n",
              "\n",
              "    .colab-df-convert {\n",
              "      background-color: #E8F0FE;\n",
              "      border: none;\n",
              "      border-radius: 50%;\n",
              "      cursor: pointer;\n",
              "      display: none;\n",
              "      fill: #1967D2;\n",
              "      height: 32px;\n",
              "      padding: 0 0 0 0;\n",
              "      width: 32px;\n",
              "    }\n",
              "\n",
              "    .colab-df-convert:hover {\n",
              "      background-color: #E2EBFA;\n",
              "      box-shadow: 0px 1px 2px rgba(60, 64, 67, 0.3), 0px 1px 3px 1px rgba(60, 64, 67, 0.15);\n",
              "      fill: #174EA6;\n",
              "    }\n",
              "\n",
              "    [theme=dark] .colab-df-convert {\n",
              "      background-color: #3B4455;\n",
              "      fill: #D2E3FC;\n",
              "    }\n",
              "\n",
              "    [theme=dark] .colab-df-convert:hover {\n",
              "      background-color: #434B5C;\n",
              "      box-shadow: 0px 1px 3px 1px rgba(0, 0, 0, 0.15);\n",
              "      filter: drop-shadow(0px 1px 2px rgba(0, 0, 0, 0.3));\n",
              "      fill: #FFFFFF;\n",
              "    }\n",
              "  </style>\n",
              "\n",
              "      <script>\n",
              "        const buttonEl =\n",
              "          document.querySelector('#df-cf805010-107b-4f6b-baa5-5ca52d58b0bb button.colab-df-convert');\n",
              "        buttonEl.style.display =\n",
              "          google.colab.kernel.accessAllowed ? 'block' : 'none';\n",
              "\n",
              "        async function convertToInteractive(key) {\n",
              "          const element = document.querySelector('#df-cf805010-107b-4f6b-baa5-5ca52d58b0bb');\n",
              "          const dataTable =\n",
              "            await google.colab.kernel.invokeFunction('convertToInteractive',\n",
              "                                                     [key], {});\n",
              "          if (!dataTable) return;\n",
              "\n",
              "          const docLinkHtml = 'Like what you see? Visit the ' +\n",
              "            '<a target=\"_blank\" href=https://colab.research.google.com/notebooks/data_table.ipynb>data table notebook</a>'\n",
              "            + ' to learn more about interactive tables.';\n",
              "          element.innerHTML = '';\n",
              "          dataTable['output_type'] = 'display_data';\n",
              "          await google.colab.output.renderOutput(dataTable, element);\n",
              "          const docLink = document.createElement('div');\n",
              "          docLink.innerHTML = docLinkHtml;\n",
              "          element.appendChild(docLink);\n",
              "        }\n",
              "      </script>\n",
              "    </div>\n",
              "  </div>\n",
              "  "
            ]
          },
          "metadata": {},
          "execution_count": 39
        }
      ]
    },
    {
      "cell_type": "markdown",
      "source": [
        "Com os dados de treino devidamente balanceados em relação às diferentes classes, seguimos para tokenização via keras: "
      ],
      "metadata": {
        "id": "OBL5THRVdquS"
      }
    },
    {
      "cell_type": "code",
      "source": [
        "# Tokenizando as palavras do vocabulário para o Conjunto Lematizado e Stemizado (1)\n",
        "tokenizer_1 = Tokenizer()\n",
        "tokenizer_1.fit_on_texts(train_data_1.text)\n",
        "word_index_1 = tokenizer_1.word_index \n",
        "vocab_size_1 = len(word_index_1) + 1\n",
        "print(f'Tamanho do vocabulário para o Conjunto 1: {vocab_size_1}')"
      ],
      "metadata": {
        "colab": {
          "base_uri": "https://localhost:8080/"
        },
        "id": "-R8A2AgXIx59",
        "outputId": "55191441-45d9-47ce-acf1-20542c25c6fb"
      },
      "execution_count": null,
      "outputs": [
        {
          "output_type": "stream",
          "name": "stdout",
          "text": [
            "Tamanho do vocabulário para o Conjunto 1: 5998\n"
          ]
        }
      ]
    },
    {
      "cell_type": "code",
      "source": [
        "# Gerando as sequências (com padding)\n",
        "x_train_1 = pad_sequences(tokenizer_1.texts_to_sequences(train_data_1.text), maxlen = max_seq_length)\n",
        "x_val_1 = pad_sequences(tokenizer_1.texts_to_sequences(val_data_1.text), maxlen = max_seq_length)\n",
        "print(f'Dimensões do Conjunto de treino 1: {x_train_1.shape}')\n",
        "print(f'Dimensões do Conjunto de validação 1: {x_val_1.shape}')"
      ],
      "metadata": {
        "colab": {
          "base_uri": "https://localhost:8080/"
        },
        "id": "u5qi9ccHKGz7",
        "outputId": "ab2fdb1f-1ebd-466e-d2fe-2eb4c5a75c5c"
      },
      "execution_count": null,
      "outputs": [
        {
          "output_type": "stream",
          "name": "stdout",
          "text": [
            "Dimensões do Conjunto de treino 1: (4956, 131)\n",
            "Dimensões do Conjunto de validação 1: (907, 131)\n"
          ]
        }
      ]
    },
    {
      "cell_type": "code",
      "source": [
        "# Separando as variáveis alvo\n",
        "y_train_1 = train_data_1.hatespeech_comb\n",
        "y_val_1 = val_data_1.hatespeech_comb"
      ],
      "metadata": {
        "id": "Dx5yaoJMW6cM"
      },
      "execution_count": null,
      "outputs": []
    },
    {
      "cell_type": "code",
      "source": [
        "# Tokenizando as palavras do vocabulário para o Conjunto Stemizado (2)\n",
        "tokenizer_2 = Tokenizer()\n",
        "tokenizer_2.fit_on_texts(train_data_2.text)\n",
        "word_index_2 = tokenizer_2.word_index \n",
        "vocab_size_2 = len(word_index_2) + 1\n",
        "print(f'Tamanho do vocabulário para o Conjunto 2: {vocab_size_2}')"
      ],
      "metadata": {
        "colab": {
          "base_uri": "https://localhost:8080/"
        },
        "id": "vb-C2iZkJrir",
        "outputId": "ab0cf5e6-8743-402d-822a-1d159b207cfd"
      },
      "execution_count": null,
      "outputs": [
        {
          "output_type": "stream",
          "name": "stdout",
          "text": [
            "Tamanho do vocabulário para o Conjunto 2: 6392\n"
          ]
        }
      ]
    },
    {
      "cell_type": "code",
      "source": [
        "# Gerando as sequências (com padding)\n",
        "x_train_2 = pad_sequences(tokenizer_2.texts_to_sequences(train_data_2.text), maxlen = max_seq_length)\n",
        "x_val_2 = pad_sequences(tokenizer_2.texts_to_sequences(val_data_2.text), maxlen = max_seq_length)\n",
        "print(f'Dimensões do Conjunto de treino 2: {x_train_2.shape}')\n",
        "print(f'Dimensões do Conjunto de validação 2: {x_val_2.shape}')"
      ],
      "metadata": {
        "colab": {
          "base_uri": "https://localhost:8080/"
        },
        "id": "toiRSLBLKHT-",
        "outputId": "70bf9f37-600f-4a74-b135-2976ec1278be"
      },
      "execution_count": null,
      "outputs": [
        {
          "output_type": "stream",
          "name": "stdout",
          "text": [
            "Dimensões do Conjunto de treino 2: (4956, 131)\n",
            "Dimensões do Conjunto de validação 2: (907, 131)\n"
          ]
        }
      ]
    },
    {
      "cell_type": "code",
      "source": [
        "# Separando as variáveis alvo\n",
        "y_train_2 = train_data_2.hatespeech_comb\n",
        "y_val_2 = val_data_2.hatespeech_comb"
      ],
      "metadata": {
        "id": "80_jCANRXbLW"
      },
      "execution_count": null,
      "outputs": []
    },
    {
      "cell_type": "code",
      "source": [
        "# Tokenizando as palavras do vocabulário para o Conjunto Lematizado (3)\n",
        "tokenizer_3 = Tokenizer()\n",
        "tokenizer_3.fit_on_texts(train_data_3.text)\n",
        "word_index_3 = tokenizer_3.word_index \n",
        "vocab_size_3 = len(word_index_3) + 1\n",
        "print(f'Tamanho do vocabulário para o Conjunto 3: {vocab_size_3}')"
      ],
      "metadata": {
        "colab": {
          "base_uri": "https://localhost:8080/"
        },
        "id": "jJgl-_SpJsAS",
        "outputId": "d50efc11-6517-4711-998b-bdaef00fd4e0"
      },
      "execution_count": null,
      "outputs": [
        {
          "output_type": "stream",
          "name": "stdout",
          "text": [
            "Tamanho do vocabulário para o Conjunto 3: 6771\n"
          ]
        }
      ]
    },
    {
      "cell_type": "code",
      "source": [
        "# Gerando as sequências (com padding)\n",
        "x_train_3 = pad_sequences(tokenizer_3.texts_to_sequences(train_data_3.text), maxlen = max_seq_length)\n",
        "x_val_3 = pad_sequences(tokenizer_3.texts_to_sequences(val_data_3.text), maxlen = max_seq_length)\n",
        "print(f'Dimensões do Conjunto de treino 3: {x_train_3.shape}')\n",
        "print(f'Dimensões do Conjunto de validação 3: {x_val_3.shape}')"
      ],
      "metadata": {
        "colab": {
          "base_uri": "https://localhost:8080/"
        },
        "id": "tqkZsUEoKIYc",
        "outputId": "2a66aa10-52d8-4fbe-be2f-b1a71924d913"
      },
      "execution_count": null,
      "outputs": [
        {
          "output_type": "stream",
          "name": "stdout",
          "text": [
            "Dimensões do Conjunto de treino 3: (4956, 131)\n",
            "Dimensões do Conjunto de validação 3: (907, 131)\n"
          ]
        }
      ]
    },
    {
      "cell_type": "code",
      "source": [
        "# Separando as variáveis alvo\n",
        "y_train_3 = train_data_3.hatespeech_comb\n",
        "y_val_3 = val_data_3.hatespeech_comb"
      ],
      "metadata": {
        "id": "44Cona2jXgSA"
      },
      "execution_count": null,
      "outputs": []
    },
    {
      "cell_type": "code",
      "source": [
        "# Tokenizando as palavras do vocabulário para o Conjunto sem Transformações (4)\n",
        "tokenizer_4 = Tokenizer()\n",
        "tokenizer_4.fit_on_texts(train_data_4.text)\n",
        "word_index_4 = tokenizer_4.word_index \n",
        "vocab_size_4 = len(word_index_4) + 1\n",
        "print(f'Tamanho do vocabulário para o Conjunto 4: {vocab_size_4}')"
      ],
      "metadata": {
        "colab": {
          "base_uri": "https://localhost:8080/"
        },
        "id": "Pi26ROueJsWr",
        "outputId": "a8ba422a-c319-4647-fae4-c6df1f5bac0c"
      },
      "execution_count": null,
      "outputs": [
        {
          "output_type": "stream",
          "name": "stdout",
          "text": [
            "Tamanho do vocabulário para o Conjunto 4: 9367\n"
          ]
        }
      ]
    },
    {
      "cell_type": "code",
      "source": [
        "# Gerando as sequências (com padding)\n",
        "x_train_4 = pad_sequences(tokenizer_4.texts_to_sequences(train_data_4.text), maxlen = max_seq_length)\n",
        "x_val_4 = pad_sequences(tokenizer_4.texts_to_sequences(val_data_4.text), maxlen = max_seq_length)\n",
        "print(f'Dimensões do Conjunto de treino 4: {x_train_4.shape}')\n",
        "print(f'Dimensões do Conjunto de teste 4: {x_val_4.shape}')"
      ],
      "metadata": {
        "colab": {
          "base_uri": "https://localhost:8080/"
        },
        "id": "nPSOwZjkKJJJ",
        "outputId": "39dfc932-fd8a-440a-8434-9c0f893e5bcd"
      },
      "execution_count": null,
      "outputs": [
        {
          "output_type": "stream",
          "name": "stdout",
          "text": [
            "Dimensões do Conjunto de treino 4: (4956, 131)\n",
            "Dimensões do Conjunto de teste 4: (907, 131)\n"
          ]
        }
      ]
    },
    {
      "cell_type": "code",
      "source": [
        "# Separando as variáveis alvo\n",
        "y_train_4 = train_data_4.hatespeech_comb\n",
        "y_val_4 = val_data_4.hatespeech_comb"
      ],
      "metadata": {
        "id": "nNXWinPVXkny"
      },
      "execution_count": null,
      "outputs": []
    },
    {
      "cell_type": "markdown",
      "source": [
        "## **Implementando o Modelo de Redes Neurais Recorrentes**"
      ],
      "metadata": {
        "id": "IHusYw4HSxxY"
      }
    },
    {
      "cell_type": "markdown",
      "source": [
        "A primeira etapa deve ser a construção do layer de **Embedding**:"
      ],
      "metadata": {
        "id": "nieahE1gS5yg"
      }
    },
    {
      "cell_type": "code",
      "source": [
        "embedding_layer_1 = Embedding(input_dim = vocab_size_1, output_dim = 80, input_length = max_seq_length)"
      ],
      "metadata": {
        "id": "X3wHYopQS4ua"
      },
      "execution_count": null,
      "outputs": []
    },
    {
      "cell_type": "markdown",
      "source": [
        "Tendo o layer de embedding, implementamos então um modelo funcional, em que a etapa posterior depende da etapa anterior.\n",
        "\n",
        "A seguinte arquitetura será seguida:\n",
        "- Layer de embedding;\n",
        "- Layer de dropout do embedding;\n",
        "- Implementação de recorrência via LSTM - *Long Short Term Memory* - (com dropout e dropout recorrente);\n",
        "- Layer Denso;\n",
        "- Dropout do layer denso;\n",
        "- Layer denso de output com função de ativação sigmoide, devido ao tipo de classificação."
      ],
      "metadata": {
        "id": "Cp0ksNsEYSnj"
      }
    },
    {
      "cell_type": "code",
      "source": [
        "sequence_input = Input(shape = (max_seq_length, ), dtype = 'int32')\n",
        "embedding_sequences = embedding_layer_1(sequence_input)\n",
        "x = SpatialDropout1D(0.2)(embedding_sequences)\n",
        "x = LSTM(64, dropout = 0.2, recurrent_dropout = 0.2)(x)\n",
        "x = Dense(512, activation = 'relu')(x)\n",
        "x = Dropout(0.5)(x)\n",
        "outputs = Dense(1, activation = 'sigmoid')(x)\n",
        "\n",
        "model_1 = tf.keras.Model(sequence_input, outputs)"
      ],
      "metadata": {
        "id": "dKI7vsEaUf52"
      },
      "execution_count": null,
      "outputs": []
    },
    {
      "cell_type": "markdown",
      "source": [
        "Resumo dos parâmetros do modelo:"
      ],
      "metadata": {
        "id": "DQGvaBvRY-er"
      }
    },
    {
      "cell_type": "code",
      "source": [
        "model_1.summary()"
      ],
      "metadata": {
        "colab": {
          "base_uri": "https://localhost:8080/"
        },
        "id": "DxaDFQGPV-I1",
        "outputId": "bb4401d6-8bfb-4b6e-85aa-eaae642accbc"
      },
      "execution_count": null,
      "outputs": [
        {
          "output_type": "stream",
          "name": "stdout",
          "text": [
            "Model: \"model\"\n",
            "_________________________________________________________________\n",
            " Layer (type)                Output Shape              Param #   \n",
            "=================================================================\n",
            " input_1 (InputLayer)        [(None, 131)]             0         \n",
            "                                                                 \n",
            " embedding (Embedding)       (None, 131, 80)           479840    \n",
            "                                                                 \n",
            " spatial_dropout1d (SpatialD  (None, 131, 80)          0         \n",
            " ropout1D)                                                       \n",
            "                                                                 \n",
            " lstm (LSTM)                 (None, 64)                37120     \n",
            "                                                                 \n",
            " dense (Dense)               (None, 512)               33280     \n",
            "                                                                 \n",
            " dropout (Dropout)           (None, 512)               0         \n",
            "                                                                 \n",
            " dense_1 (Dense)             (None, 1)                 513       \n",
            "                                                                 \n",
            "=================================================================\n",
            "Total params: 550,753\n",
            "Trainable params: 550,753\n",
            "Non-trainable params: 0\n",
            "_________________________________________________________________\n"
          ]
        }
      ]
    },
    {
      "cell_type": "code",
      "source": [
        "model_1.compile(optimizer = 'adam', loss = 'binary_crossentropy', metrics = ['accuracy'])"
      ],
      "metadata": {
        "id": "eafnW4CBWDBV"
      },
      "execution_count": null,
      "outputs": []
    },
    {
      "cell_type": "code",
      "source": [
        "batch_size = 1024\n",
        "epochs = 20\n",
        "history_1 = model_1.fit(x_train_1, y_train_1, batch_size = batch_size, epochs = epochs, validation_data = (x_val_1, y_val_1))"
      ],
      "metadata": {
        "colab": {
          "base_uri": "https://localhost:8080/"
        },
        "id": "PFhiIrZdihmW",
        "outputId": "8afb4387-a02f-4a7c-b8f6-b83651f26e22"
      },
      "execution_count": null,
      "outputs": [
        {
          "output_type": "stream",
          "name": "stdout",
          "text": [
            "Epoch 1/20\n",
            "5/5 [==============================] - 11s 2s/step - loss: 0.6925 - accuracy: 0.5365 - val_loss: 0.6884 - val_accuracy: 0.6516\n",
            "Epoch 2/20\n",
            "5/5 [==============================] - 7s 1s/step - loss: 0.6885 - accuracy: 0.5910 - val_loss: 0.6729 - val_accuracy: 0.6880\n",
            "Epoch 3/20\n",
            "5/5 [==============================] - 7s 1s/step - loss: 0.6770 - accuracy: 0.6437 - val_loss: 0.6612 - val_accuracy: 0.6681\n",
            "Epoch 4/20\n",
            "5/5 [==============================] - 8s 2s/step - loss: 0.6480 - accuracy: 0.7010 - val_loss: 0.6260 - val_accuracy: 0.6946\n",
            "Epoch 5/20\n",
            "5/5 [==============================] - 7s 1s/step - loss: 0.5891 - accuracy: 0.7504 - val_loss: 0.5834 - val_accuracy: 0.7144\n",
            "Epoch 6/20\n",
            "5/5 [==============================] - 7s 1s/step - loss: 0.4886 - accuracy: 0.8039 - val_loss: 0.5724 - val_accuracy: 0.7012\n",
            "Epoch 7/20\n",
            "5/5 [==============================] - 7s 1s/step - loss: 0.3742 - accuracy: 0.8600 - val_loss: 0.5723 - val_accuracy: 0.7266\n",
            "Epoch 8/20\n",
            "5/5 [==============================] - 7s 1s/step - loss: 0.2793 - accuracy: 0.8925 - val_loss: 0.6572 - val_accuracy: 0.7178\n",
            "Epoch 9/20\n",
            "5/5 [==============================] - 7s 1s/step - loss: 0.2232 - accuracy: 0.9132 - val_loss: 0.7194 - val_accuracy: 0.7166\n",
            "Epoch 10/20\n",
            "5/5 [==============================] - 7s 1s/step - loss: 0.1714 - accuracy: 0.9387 - val_loss: 0.7947 - val_accuracy: 0.7111\n",
            "Epoch 11/20\n",
            "5/5 [==============================] - 7s 1s/step - loss: 0.1375 - accuracy: 0.9516 - val_loss: 0.8976 - val_accuracy: 0.7012\n",
            "Epoch 12/20\n",
            "5/5 [==============================] - 7s 1s/step - loss: 0.1139 - accuracy: 0.9619 - val_loss: 0.9857 - val_accuracy: 0.6836\n",
            "Epoch 13/20\n",
            "5/5 [==============================] - 7s 1s/step - loss: 0.0914 - accuracy: 0.9699 - val_loss: 1.0888 - val_accuracy: 0.6902\n",
            "Epoch 14/20\n",
            "5/5 [==============================] - 7s 1s/step - loss: 0.0817 - accuracy: 0.9720 - val_loss: 1.1560 - val_accuracy: 0.6924\n",
            "Epoch 15/20\n",
            "5/5 [==============================] - 7s 1s/step - loss: 0.0624 - accuracy: 0.9790 - val_loss: 1.2880 - val_accuracy: 0.6957\n",
            "Epoch 16/20\n",
            "5/5 [==============================] - 7s 1s/step - loss: 0.0542 - accuracy: 0.9824 - val_loss: 1.3642 - val_accuracy: 0.6803\n",
            "Epoch 17/20\n",
            "5/5 [==============================] - 7s 1s/step - loss: 0.0453 - accuracy: 0.9849 - val_loss: 1.5056 - val_accuracy: 0.6946\n",
            "Epoch 18/20\n",
            "5/5 [==============================] - 7s 1s/step - loss: 0.0387 - accuracy: 0.9877 - val_loss: 1.5696 - val_accuracy: 0.6825\n",
            "Epoch 19/20\n",
            "5/5 [==============================] - 7s 1s/step - loss: 0.0351 - accuracy: 0.9877 - val_loss: 1.6668 - val_accuracy: 0.6847\n",
            "Epoch 20/20\n",
            "5/5 [==============================] - 7s 1s/step - loss: 0.0337 - accuracy: 0.9895 - val_loss: 1.6940 - val_accuracy: 0.6792\n"
          ]
        }
      ]
    },
    {
      "cell_type": "code",
      "source": [
        "plt.title('Accuracy Train and Validation (Conjunto Lematizado/Stemizado)')\n",
        "plt.plot(history_1.history['accuracy'], label = 'train', color = '#343A40', linewidth = 2.0)\n",
        "plt.plot(history_1.history['val_accuracy'], label = 'validation', color = '#C9184A', linewidth = 2.0)\n",
        "plt.xticks(list(range(0, epochs)))\n",
        "plt.xlabel('epochs')\n",
        "plt.ylabel('accuracy')\n",
        "plt.legend()\n",
        "plt.show()"
      ],
      "metadata": {
        "colab": {
          "base_uri": "https://localhost:8080/",
          "height": 295
        },
        "id": "kCpBuH42jc21",
        "outputId": "9acbb5ef-3c9d-4330-b200-466ad06a3791"
      },
      "execution_count": null,
      "outputs": [
        {
          "output_type": "display_data",
          "data": {
            "text/plain": [
              "<Figure size 432x288 with 1 Axes>"
            ],
            "image/png": "[encoded data removed]"
          },
          "metadata": {
            "needs_background": "light"
          }
        }
      ]
    },
    {
      "cell_type": "code",
      "source": [
        "plt.title('Loss Train and Validation (Conjunto Lematizado/Stemizado)')\n",
        "plt.plot(history_1.history['loss'], label = 'train', color = '#343A40', linewidth = 2.0)\n",
        "plt.plot(history_1.history['val_loss'], label = 'validation', color = '#C9184A', linewidth = 2.0)\n",
        "plt.xticks(list(range(0, epochs)))\n",
        "plt.xlabel('epochs')\n",
        "plt.ylabel('loss')\n",
        "plt.legend()\n",
        "plt.show()"
      ],
      "metadata": {
        "colab": {
          "base_uri": "https://localhost:8080/",
          "height": 295
        },
        "id": "oIe2AthCmB8G",
        "outputId": "e8c86502-1331-480f-ca2a-971353917243"
      },
      "execution_count": null,
      "outputs": [
        {
          "output_type": "display_data",
          "data": {
            "text/plain": [
              "<Figure size 432x288 with 1 Axes>"
            ],
            "image/png": "[encoded data removed]"
          },
          "metadata": {
            "needs_background": "light"
          }
        }
      ]
    },
    {
      "cell_type": "markdown",
      "source": [
        "Vamos agora aplicar as mesmas etapas para o conjunto de dados apenas stemizado:"
      ],
      "metadata": {
        "id": "j6HnuYadZboy"
      }
    },
    {
      "cell_type": "code",
      "source": [
        "embedding_layer_2 = Embedding(input_dim = vocab_size_2, output_dim = 80, input_length = max_seq_length)"
      ],
      "metadata": {
        "id": "jBujGA_BZihO"
      },
      "execution_count": null,
      "outputs": []
    },
    {
      "cell_type": "code",
      "source": [
        "sequence_input = Input(shape = (max_seq_length, ), dtype = 'int32')\n",
        "embedding_sequences = embedding_layer_2(sequence_input)\n",
        "x = SpatialDropout1D(0.2)(embedding_sequences)\n",
        "x = LSTM(64, dropout = 0.2, recurrent_dropout = 0.2)(x)\n",
        "x = Dense(512, activation = 'relu')(x)\n",
        "x = Dropout(0.5)(x)\n",
        "outputs = Dense(1, activation = 'sigmoid')(x)\n",
        "\n",
        "model_2 = tf.keras.Model(sequence_input, outputs)"
      ],
      "metadata": {
        "id": "h6rKz2yfZnjG"
      },
      "execution_count": null,
      "outputs": []
    },
    {
      "cell_type": "code",
      "source": [
        "model_2.compile(optimizer = 'adam', loss = 'binary_crossentropy', metrics = ['accuracy'])"
      ],
      "metadata": {
        "id": "cHKC2x3iZ2bC"
      },
      "execution_count": null,
      "outputs": []
    },
    {
      "cell_type": "code",
      "source": [
        "model_2.summary()"
      ],
      "metadata": {
        "colab": {
          "base_uri": "https://localhost:8080/"
        },
        "id": "bAz1ebhHdd9K",
        "outputId": "95d1d78e-8fbf-431f-b5b8-e72e93a76cde"
      },
      "execution_count": null,
      "outputs": [
        {
          "output_type": "stream",
          "name": "stdout",
          "text": [
            "Model: \"model_1\"\n",
            "_________________________________________________________________\n",
            " Layer (type)                Output Shape              Param #   \n",
            "=================================================================\n",
            " input_2 (InputLayer)        [(None, 131)]             0         \n",
            "                                                                 \n",
            " embedding_1 (Embedding)     (None, 131, 80)           511360    \n",
            "                                                                 \n",
            " spatial_dropout1d_1 (Spatia  (None, 131, 80)          0         \n",
            " lDropout1D)                                                     \n",
            "                                                                 \n",
            " lstm_1 (LSTM)               (None, 64)                37120     \n",
            "                                                                 \n",
            " dense_2 (Dense)             (None, 512)               33280     \n",
            "                                                                 \n",
            " dropout_1 (Dropout)         (None, 512)               0         \n",
            "                                                                 \n",
            " dense_3 (Dense)             (None, 1)                 513       \n",
            "                                                                 \n",
            "=================================================================\n",
            "Total params: 582,273\n",
            "Trainable params: 582,273\n",
            "Non-trainable params: 0\n",
            "_________________________________________________________________\n"
          ]
        }
      ]
    },
    {
      "cell_type": "code",
      "source": [
        "history_2 = model_2.fit(x_train_2, y_train_2, batch_size = batch_size, epochs = epochs, validation_data = (x_val_2, y_val_2), verbose = 0)"
      ],
      "metadata": {
        "id": "3N1VuU8baIFV"
      },
      "execution_count": null,
      "outputs": []
    },
    {
      "cell_type": "code",
      "source": [
        "plt.title('Accuracy Train and Validation (Conjunto Stemizado)')\n",
        "plt.plot(history_2.history['accuracy'], label = 'train', color = '#343A40', linewidth = 2.0)\n",
        "plt.plot(history_2.history['val_accuracy'], label = 'validation', color = '#C9184A', linewidth = 2.0)\n",
        "plt.xticks(list(range(0, epochs)))\n",
        "plt.xlabel('epochs')\n",
        "plt.ylabel('accuracy')\n",
        "plt.legend()\n",
        "plt.show()"
      ],
      "metadata": {
        "colab": {
          "base_uri": "https://localhost:8080/",
          "height": 295
        },
        "id": "OK6MVxW5n5RT",
        "outputId": "d3e2bd3e-9649-4999-95ed-1a04a77f1219"
      },
      "execution_count": null,
      "outputs": [
        {
          "output_type": "display_data",
          "data": {
            "text/plain": [
              "<Figure size 432x288 with 1 Axes>"
            ],
            "image/png": "[encoded data removed]"
          },
          "metadata": {
            "needs_background": "light"
          }
        }
      ]
    },
    {
      "cell_type": "code",
      "source": [
        "plt.title('Loss Train and Validation (Conjunto Stemizado)')\n",
        "plt.plot(history_2.history['loss'], label = 'train', color = '#343A40', linewidth = 2.0)\n",
        "plt.plot(history_2.history['val_loss'], label = 'validation', color = '#C9184A', linewidth = 2.0)\n",
        "plt.xticks(list(range(0, epochs)))\n",
        "plt.xlabel('epochs')\n",
        "plt.ylabel('loss')\n",
        "plt.legend()\n",
        "plt.show()"
      ],
      "metadata": {
        "colab": {
          "base_uri": "https://localhost:8080/",
          "height": 295
        },
        "id": "Zu44EVJmn5lO",
        "outputId": "fe67bed5-f16c-4008-fe07-b7e77da29e49"
      },
      "execution_count": null,
      "outputs": [
        {
          "output_type": "display_data",
          "data": {
            "text/plain": [
              "<Figure size 432x288 with 1 Axes>"
            ],
            "image/png": "[encoded data removed]"
          },
          "metadata": {
            "needs_background": "light"
          }
        }
      ]
    },
    {
      "cell_type": "markdown",
      "source": [
        "Implementando o modelo para o conjunto de dados lematizado:"
      ],
      "metadata": {
        "id": "ZWdYooANdydr"
      }
    },
    {
      "cell_type": "code",
      "source": [
        "embedding_layer_3 = Embedding(input_dim = vocab_size_3, output_dim = 80, input_length = max_seq_length)"
      ],
      "metadata": {
        "id": "uFOYfuFid6UT"
      },
      "execution_count": null,
      "outputs": []
    },
    {
      "cell_type": "code",
      "source": [
        "sequence_input = Input(shape = (max_seq_length, ), dtype = 'int32')\n",
        "embedding_sequences = embedding_layer_3(sequence_input)\n",
        "x = SpatialDropout1D(0.2)(embedding_sequences)\n",
        "x = LSTM(64, dropout = 0.2, recurrent_dropout = 0.2)(x)\n",
        "x = Dense(512, activation = 'relu')(x)\n",
        "x = Dropout(0.5)(x)\n",
        "outputs = Dense(1, activation = 'sigmoid')(x)\n",
        "\n",
        "model_3 = tf.keras.Model(sequence_input, outputs)"
      ],
      "metadata": {
        "id": "1GmtQ_h9eC1Z"
      },
      "execution_count": null,
      "outputs": []
    },
    {
      "cell_type": "code",
      "source": [
        "model_3.compile(optimizer = 'adam', loss = 'binary_crossentropy', metrics = ['accuracy'])"
      ],
      "metadata": {
        "id": "SdalqDtteFet"
      },
      "execution_count": null,
      "outputs": []
    },
    {
      "cell_type": "code",
      "source": [
        "model_3.summary()"
      ],
      "metadata": {
        "colab": {
          "base_uri": "https://localhost:8080/"
        },
        "id": "Lc6BRJ9reIK2",
        "outputId": "c664b081-3985-42fb-e6a6-c6d3a4ab8f9d"
      },
      "execution_count": null,
      "outputs": [
        {
          "output_type": "stream",
          "name": "stdout",
          "text": [
            "Model: \"model_2\"\n",
            "_________________________________________________________________\n",
            " Layer (type)                Output Shape              Param #   \n",
            "=================================================================\n",
            " input_3 (InputLayer)        [(None, 131)]             0         \n",
            "                                                                 \n",
            " embedding_2 (Embedding)     (None, 131, 80)           541680    \n",
            "                                                                 \n",
            " spatial_dropout1d_2 (Spatia  (None, 131, 80)          0         \n",
            " lDropout1D)                                                     \n",
            "                                                                 \n",
            " lstm_2 (LSTM)               (None, 64)                37120     \n",
            "                                                                 \n",
            " dense_4 (Dense)             (None, 512)               33280     \n",
            "                                                                 \n",
            " dropout_2 (Dropout)         (None, 512)               0         \n",
            "                                                                 \n",
            " dense_5 (Dense)             (None, 1)                 513       \n",
            "                                                                 \n",
            "=================================================================\n",
            "Total params: 612,593\n",
            "Trainable params: 612,593\n",
            "Non-trainable params: 0\n",
            "_________________________________________________________________\n"
          ]
        }
      ]
    },
    {
      "cell_type": "code",
      "source": [
        "history_3 = model_3.fit(x_train_3, y_train_3, batch_size = batch_size, epochs = epochs, validation_data = (x_val_3, y_val_3), verbose = 0)"
      ],
      "metadata": {
        "id": "9ExUTatPeKUY"
      },
      "execution_count": null,
      "outputs": []
    },
    {
      "cell_type": "code",
      "source": [
        "plt.title('Accuracy Train and Validation (Conjunto Lematizado)')\n",
        "plt.plot(history_3.history['accuracy'], label = 'train', color = '#343A40', linewidth = 2.0)\n",
        "plt.plot(history_3.history['val_accuracy'], label = 'validation', color = '#C9184A', linewidth = 2.0)\n",
        "plt.xticks(list(range(0, epochs)))\n",
        "plt.xlabel('epochs')\n",
        "plt.ylabel('accuracy')\n",
        "plt.legend()\n",
        "plt.show()"
      ],
      "metadata": {
        "colab": {
          "base_uri": "https://localhost:8080/",
          "height": 295
        },
        "id": "_mhtT3njpjmW",
        "outputId": "e0b0c888-672f-466b-fb9c-be3c4fe5be52"
      },
      "execution_count": null,
      "outputs": [
        {
          "output_type": "display_data",
          "data": {
            "text/plain": [
              "<Figure size 432x288 with 1 Axes>"
            ],
            "image/png": "[encoded data removed]"
          },
          "metadata": {
            "needs_background": "light"
          }
        }
      ]
    },
    {
      "cell_type": "code",
      "source": [
        "plt.title('Loss Train and Validation (Conjunto Lematizado)')\n",
        "plt.plot(history_3.history['loss'], label = 'train', color = '#343A40', linewidth = 2.0)\n",
        "plt.plot(history_3.history['val_loss'], label = 'validation', color = '#C9184A', linewidth = 2.0)\n",
        "plt.xticks(list(range(0, epochs)))\n",
        "plt.xlabel('epochs')\n",
        "plt.ylabel('loss')\n",
        "plt.legend()\n",
        "plt.show()"
      ],
      "metadata": {
        "colab": {
          "base_uri": "https://localhost:8080/",
          "height": 295
        },
        "id": "lLiuEBdupkGo",
        "outputId": "738270df-c85a-43a5-b061-2ae681fd2290"
      },
      "execution_count": null,
      "outputs": [
        {
          "output_type": "display_data",
          "data": {
            "text/plain": [
              "<Figure size 432x288 with 1 Axes>"
            ],
            "image/png": "[encoded data removed]"
          },
          "metadata": {
            "needs_background": "light"
          }
        }
      ]
    },
    {
      "cell_type": "markdown",
      "source": [
        "Implementando o modelo para o conjunto de dados que não sofreu nenhuma tranformação em termos de lematização/stemização:"
      ],
      "metadata": {
        "id": "I63aWcwqerTs"
      }
    },
    {
      "cell_type": "code",
      "source": [
        "embedding_layer_4 = Embedding(input_dim = vocab_size_4, output_dim = 80, input_length = max_seq_length)"
      ],
      "metadata": {
        "id": "xoYWAdm_e0M6"
      },
      "execution_count": null,
      "outputs": []
    },
    {
      "cell_type": "code",
      "source": [
        "sequence_input = Input(shape = (max_seq_length, ), dtype = 'int32')\n",
        "embedding_sequences = embedding_layer_4(sequence_input)\n",
        "x = SpatialDropout1D(0.2)(embedding_sequences)\n",
        "x = LSTM(64, dropout = 0.2, recurrent_dropout = 0.2)(x)\n",
        "x = Dense(512, activation = 'relu')(x)\n",
        "x = Dropout(0.5)(x)\n",
        "outputs = Dense(1, activation = 'sigmoid')(x)\n",
        "\n",
        "model_4 = tf.keras.Model(sequence_input, outputs)"
      ],
      "metadata": {
        "id": "L0Ekn-JMe3Y8"
      },
      "execution_count": null,
      "outputs": []
    },
    {
      "cell_type": "code",
      "source": [
        "model_4.compile(optimizer = 'adam', loss = 'binary_crossentropy', metrics = ['accuracy'])"
      ],
      "metadata": {
        "id": "A8fF8r58e660"
      },
      "execution_count": null,
      "outputs": []
    },
    {
      "cell_type": "code",
      "source": [
        "model_4.summary()"
      ],
      "metadata": {
        "colab": {
          "base_uri": "https://localhost:8080/"
        },
        "id": "oHC6zQfze9q_",
        "outputId": "dfb46c31-ce75-4e7f-d6bc-bae8a9e14b31"
      },
      "execution_count": null,
      "outputs": [
        {
          "output_type": "stream",
          "name": "stdout",
          "text": [
            "Model: \"model_3\"\n",
            "_________________________________________________________________\n",
            " Layer (type)                Output Shape              Param #   \n",
            "=================================================================\n",
            " input_4 (InputLayer)        [(None, 131)]             0         \n",
            "                                                                 \n",
            " embedding_3 (Embedding)     (None, 131, 80)           749360    \n",
            "                                                                 \n",
            " spatial_dropout1d_3 (Spatia  (None, 131, 80)          0         \n",
            " lDropout1D)                                                     \n",
            "                                                                 \n",
            " lstm_3 (LSTM)               (None, 64)                37120     \n",
            "                                                                 \n",
            " dense_6 (Dense)             (None, 512)               33280     \n",
            "                                                                 \n",
            " dropout_3 (Dropout)         (None, 512)               0         \n",
            "                                                                 \n",
            " dense_7 (Dense)             (None, 1)                 513       \n",
            "                                                                 \n",
            "=================================================================\n",
            "Total params: 820,273\n",
            "Trainable params: 820,273\n",
            "Non-trainable params: 0\n",
            "_________________________________________________________________\n"
          ]
        }
      ]
    },
    {
      "cell_type": "code",
      "source": [
        "history_4 = model_4.fit(x_train_4, y_train_4, batch_size = batch_size, epochs = epochs, validation_data = (x_val_4, y_val_4), verbose = 0)"
      ],
      "metadata": {
        "id": "jwzvUcnYfEOc"
      },
      "execution_count": null,
      "outputs": []
    },
    {
      "cell_type": "code",
      "source": [
        "plt.title('Accuracy Train and Validation (Conjunto Sem Tranformações)')\n",
        "plt.plot(history_4.history['accuracy'], label = 'train', color = '#343A40', linewidth = 2.0)\n",
        "plt.plot(history_4.history['val_accuracy'], label = 'validation', color = '#C9184A', linewidth = 2.0)\n",
        "plt.xticks(list(range(0, epochs)))\n",
        "plt.xlabel('epochs')\n",
        "plt.ylabel('accuracy')\n",
        "plt.legend()\n",
        "plt.show()"
      ],
      "metadata": {
        "colab": {
          "base_uri": "https://localhost:8080/",
          "height": 295
        },
        "id": "nHKRuXoHLztq",
        "outputId": "a000be3e-ebc5-4e85-cbc9-4c4cf91f3d6f"
      },
      "execution_count": null,
      "outputs": [
        {
          "output_type": "display_data",
          "data": {
            "text/plain": [
              "<Figure size 432x288 with 1 Axes>"
            ],
            "image/png": "[encoded data removed]"
          },
          "metadata": {
            "needs_background": "light"
          }
        }
      ]
    },
    {
      "cell_type": "code",
      "source": [
        "plt.title('Loss Train and Validation (Conjunto Sem Tranformações)')\n",
        "plt.plot(history_4.history['loss'], label = 'train', color = '#343A40', linewidth = 2.0)\n",
        "plt.plot(history_4.history['val_loss'], label = 'validation', color = '#C9184A', linewidth = 2.0)\n",
        "plt.xticks(list(range(0, epochs)))\n",
        "plt.xlabel('epochs')\n",
        "plt.ylabel('loss')\n",
        "plt.legend()\n",
        "plt.show()"
      ],
      "metadata": {
        "colab": {
          "base_uri": "https://localhost:8080/",
          "height": 295
        },
        "id": "SEvNvj2_L0QC",
        "outputId": "4d21dc77-5ba8-4860-f28d-498c3d392414"
      },
      "execution_count": null,
      "outputs": [
        {
          "output_type": "display_data",
          "data": {
            "text/plain": [
              "<Figure size 432x288 with 1 Axes>"
            ],
            "image/png": "[encoded data removed]"
          },
          "metadata": {
            "needs_background": "light"
          }
        }
      ]
    },
    {
      "cell_type": "code",
      "source": [
        "# Resumo sobre o desempenho dos modelos\n",
        "models = ['Stemizado/Lematizado',\n",
        "          'Stemizado',\n",
        "          'Lematizado',\n",
        "          'Sem Transformações']\n",
        "\n",
        "accuracy = [history_1.history['val_accuracy'][-1],\n",
        "            history_2.history['val_accuracy'][-1],\n",
        "            history_3.history['val_accuracy'][-1],\n",
        "            history_4.history['val_accuracy'][-1]]\n",
        "\n",
        "results = pd.DataFrame({'Conjunto Utilizado': models,\n",
        "                        'Acurácia na Validação': accuracy})\n",
        "\n",
        "results['Acurácia na Validação'] = results['Acurácia na Validação'].apply(lambda x: round(x, 4))\n",
        "\n",
        "display(results)"
      ],
      "metadata": {
        "colab": {
          "base_uri": "https://localhost:8080/",
          "height": 175
        },
        "id": "NC1mbgeTMGuN",
        "outputId": "61b1ce80-e27b-4102-f3e6-14a5f778eccd"
      },
      "execution_count": null,
      "outputs": [
        {
          "output_type": "display_data",
          "data": {
            "text/plain": [
              "     Conjunto Utilizado  Acurácia na Validação\n",
              "0  Stemizado/Lematizado                 0.6792\n",
              "1             Stemizado                 0.6770\n",
              "2            Lematizado                 0.6946\n",
              "3    Sem Transformações                 0.7089"
            ],
            "text/html": [
              "\n",
              "  <div id=\"df-53dbde6d-843e-486c-b9b1-1fdcbf3af7a5\">\n",
              "    <div class=\"colab-df-container\">\n",
              "      <div>\n",
              "<style scoped>\n",
              "    .dataframe tbody tr th:only-of-type {\n",
              "        vertical-align: middle;\n",
              "    }\n",
              "\n",
              "    .dataframe tbody tr th {\n",
              "        vertical-align: top;\n",
              "    }\n",
              "\n",
              "    .dataframe thead th {\n",
              "        text-align: right;\n",
              "    }\n",
              "</style>\n",
              "<table border=\"1\" class=\"dataframe\">\n",
              "  <thead>\n",
              "    <tr style=\"text-align: right;\">\n",
              "      <th></th>\n",
              "      <th>Conjunto Utilizado</th>\n",
              "      <th>Acurácia na Validação</th>\n",
              "    </tr>\n",
              "  </thead>\n",
              "  <tbody>\n",
              "    <tr>\n",
              "      <th>0</th>\n",
              "      <td>Stemizado/Lematizado</td>\n",
              "      <td>0.6792</td>\n",
              "    </tr>\n",
              "    <tr>\n",
              "      <th>1</th>\n",
              "      <td>Stemizado</td>\n",
              "      <td>0.6770</td>\n",
              "    </tr>\n",
              "    <tr>\n",
              "      <th>2</th>\n",
              "      <td>Lematizado</td>\n",
              "      <td>0.6946</td>\n",
              "    </tr>\n",
              "    <tr>\n",
              "      <th>3</th>\n",
              "      <td>Sem Transformações</td>\n",
              "      <td>0.7089</td>\n",
              "    </tr>\n",
              "  </tbody>\n",
              "</table>\n",
              "</div>\n",
              "      <button class=\"colab-df-convert\" onclick=\"convertToInteractive('df-53dbde6d-843e-486c-b9b1-1fdcbf3af7a5')\"\n",
              "              title=\"Convert this dataframe to an interactive table.\"\n",
              "              style=\"display:none;\">\n",
              "        \n",
              "  <svg xmlns=\"http://www.w3.org/2000/svg\" height=\"24px\"viewBox=\"0 0 24 24\"\n",
              "       width=\"24px\">\n",
              "    <path d=\"M0 0h24v24H0V0z\" fill=\"none\"/>\n",
              "    <path d=\"M18.56 5.44l.94 2.06.94-2.06 2.06-.94-2.06-.94-.94-2.06-.94 2.06-2.06.94zm-11 1L8.5 8.5l.94-2.06 2.06-.94-2.06-.94L8.5 2.5l-.94 2.06-2.06.94zm10 10l.94 2.06.94-2.06 2.06-.94-2.06-.94-.94-2.06-.94 2.06-2.06.94z\"/><path d=\"M17.41 7.96l-1.37-1.37c-.4-.4-.92-.59-1.43-.59-.52 0-1.04.2-1.43.59L10.3 9.45l-7.72 7.72c-.78.78-.78 2.05 0 2.83L4 21.41c.39.39.9.59 1.41.59.51 0 1.02-.2 1.41-.59l7.78-7.78 2.81-2.81c.8-.78.8-2.07 0-2.86zM5.41 20L4 18.59l7.72-7.72 1.47 1.35L5.41 20z\"/>\n",
              "  </svg>\n",
              "      </button>\n",
              "      \n",
              "  <style>\n",
              "    .colab-df-container {\n",
              "      display:flex;\n",
              "      flex-wrap:wrap;\n",
              "      gap: 12px;\n",
              "    }\n",
              "\n",
              "    .colab-df-convert {\n",
              "      background-color: #E8F0FE;\n",
              "      border: none;\n",
              "      border-radius: 50%;\n",
              "      cursor: pointer;\n",
              "      display: none;\n",
              "      fill: #1967D2;\n",
              "      height: 32px;\n",
              "      padding: 0 0 0 0;\n",
              "      width: 32px;\n",
              "    }\n",
              "\n",
              "    .colab-df-convert:hover {\n",
              "      background-color: #E2EBFA;\n",
              "      box-shadow: 0px 1px 2px rgba(60, 64, 67, 0.3), 0px 1px 3px 1px rgba(60, 64, 67, 0.15);\n",
              "      fill: #174EA6;\n",
              "    }\n",
              "\n",
              "    [theme=dark] .colab-df-convert {\n",
              "      background-color: #3B4455;\n",
              "      fill: #D2E3FC;\n",
              "    }\n",
              "\n",
              "    [theme=dark] .colab-df-convert:hover {\n",
              "      background-color: #434B5C;\n",
              "      box-shadow: 0px 1px 3px 1px rgba(0, 0, 0, 0.15);\n",
              "      filter: drop-shadow(0px 1px 2px rgba(0, 0, 0, 0.3));\n",
              "      fill: #FFFFFF;\n",
              "    }\n",
              "  </style>\n",
              "\n",
              "      <script>\n",
              "        const buttonEl =\n",
              "          document.querySelector('#df-53dbde6d-843e-486c-b9b1-1fdcbf3af7a5 button.colab-df-convert');\n",
              "        buttonEl.style.display =\n",
              "          google.colab.kernel.accessAllowed ? 'block' : 'none';\n",
              "\n",
              "        async function convertToInteractive(key) {\n",
              "          const element = document.querySelector('#df-53dbde6d-843e-486c-b9b1-1fdcbf3af7a5');\n",
              "          const dataTable =\n",
              "            await google.colab.kernel.invokeFunction('convertToInteractive',\n",
              "                                                     [key], {});\n",
              "          if (!dataTable) return;\n",
              "\n",
              "          const docLinkHtml = 'Like what you see? Visit the ' +\n",
              "            '<a target=\"_blank\" href=https://colab.research.google.com/notebooks/data_table.ipynb>data table notebook</a>'\n",
              "            + ' to learn more about interactive tables.';\n",
              "          element.innerHTML = '';\n",
              "          dataTable['output_type'] = 'display_data';\n",
              "          await google.colab.output.renderOutput(dataTable, element);\n",
              "          const docLink = document.createElement('div');\n",
              "          docLink.innerHTML = docLinkHtml;\n",
              "          element.appendChild(docLink);\n",
              "        }\n",
              "      </script>\n",
              "    </div>\n",
              "  </div>\n",
              "  "
            ]
          },
          "metadata": {}
        }
      ]
    },
    {
      "cell_type": "markdown",
      "source": [
        "Dentre os resultados obtidos, é possível perceber que a RNN treinada com um conjunto de dados sem transformações foi a que obteve o melhor desempenho. As operações de lematização e stemização podem ter ocasionado em perca de sentido, o que pode em certa medida justificar as métricas obtidas.\n",
        "\n",
        "Redes Neurais por si só tendem a ser sistemas complexos e com grande possibilidade de *overfitting* a depender da arquitetura. Com base na análise dos gráficos de acurácia e da função de perda, pode-se afirmar que a maior parte dos modelos só apresentou grande disparidade entre os resultados obtidos para os conjuntos de treino e validação a partir do 5º epoch, em média."
      ],
      "metadata": {
        "id": "Yl-oaq7Botqi"
      }
    },
    {
      "cell_type": "markdown",
      "source": [
        "## **Implementação de Modelo RNN com LSTM Bidirecional**"
      ],
      "metadata": {
        "id": "UIQ9zBNnwc35"
      }
    },
    {
      "cell_type": "markdown",
      "source": [
        "Iremos utilizar o conjunto de dados sem transformações para treinamento de uma rede neural recorrente utilizando um LSTM Bidirecional.\n",
        "\n",
        "Neste tipo de arquitetura, os dados de entrada (no caso tweets que foram convertidos em sequências numéricas) são absorvidos pelo modelo de duas formas: no sentido direto e reverso, a fim de que a rede possa aprender a relação entre palavras passadas e futuras. Optou-se aqui por manter a concatenação dos *outputs* resultantes das leituras em ambas as direções."
      ],
      "metadata": {
        "id": "lHX43CE3pLvj"
      }
    },
    {
      "cell_type": "code",
      "source": [
        "embedding_layer = Embedding(input_dim = vocab_size_4, output_dim = 80, input_length = max_seq_length)"
      ],
      "metadata": {
        "id": "0sQSfkLgwl8A"
      },
      "execution_count": null,
      "outputs": []
    },
    {
      "cell_type": "code",
      "source": [
        "sequence_input = Input(shape = (max_seq_length, ), dtype = 'int32')\n",
        "embedding_sequences = embedding_layer(sequence_input)\n",
        "x = SpatialDropout1D(0.2)(embedding_sequences)\n",
        "x = Bidirectional(LSTM(64, dropout = 0.2, recurrent_dropout = 0.2))(x)\n",
        "x = Dense(512, activation = 'relu')(x)\n",
        "x = Dropout(0.5)(x)\n",
        "outputs = Dense(1, activation = 'sigmoid')(x)\n",
        "\n",
        "model_bidirectional = tf.keras.Model(sequence_input, outputs)"
      ],
      "metadata": {
        "id": "7mHPPwe3wrH0"
      },
      "execution_count": null,
      "outputs": []
    },
    {
      "cell_type": "code",
      "source": [
        "model_bidirectional.compile(optimizer = 'adam', loss = 'binary_crossentropy', metrics = ['accuracy'])"
      ],
      "metadata": {
        "id": "jaY08E3ywwvk"
      },
      "execution_count": null,
      "outputs": []
    },
    {
      "cell_type": "code",
      "source": [
        "model_bidirectional.summary()"
      ],
      "metadata": {
        "colab": {
          "base_uri": "https://localhost:8080/"
        },
        "id": "uT_WwPoxw7H1",
        "outputId": "02a25dd9-772a-403d-e3b2-ebbb24b43c9d"
      },
      "execution_count": null,
      "outputs": [
        {
          "output_type": "stream",
          "name": "stdout",
          "text": [
            "Model: \"model_4\"\n",
            "_________________________________________________________________\n",
            " Layer (type)                Output Shape              Param #   \n",
            "=================================================================\n",
            " input_5 (InputLayer)        [(None, 131)]             0         \n",
            "                                                                 \n",
            " embedding_4 (Embedding)     (None, 131, 80)           749360    \n",
            "                                                                 \n",
            " spatial_dropout1d_4 (Spatia  (None, 131, 80)          0         \n",
            " lDropout1D)                                                     \n",
            "                                                                 \n",
            " bidirectional (Bidirectiona  (None, 128)              74240     \n",
            " l)                                                              \n",
            "                                                                 \n",
            " dense_8 (Dense)             (None, 512)               66048     \n",
            "                                                                 \n",
            " dropout_4 (Dropout)         (None, 512)               0         \n",
            "                                                                 \n",
            " dense_9 (Dense)             (None, 1)                 513       \n",
            "                                                                 \n",
            "=================================================================\n",
            "Total params: 890,161\n",
            "Trainable params: 890,161\n",
            "Non-trainable params: 0\n",
            "_________________________________________________________________\n"
          ]
        }
      ]
    },
    {
      "cell_type": "code",
      "source": [
        "history_bidirectional = model_bidirectional.fit(x_train_4, y_train_4, batch_size = batch_size, epochs = epochs, validation_data = (x_val_4, y_val_4), verbose = 0)"
      ],
      "metadata": {
        "id": "a5vEv1kfxFMw"
      },
      "execution_count": null,
      "outputs": []
    },
    {
      "cell_type": "code",
      "source": [
        "plt.title('Accuracy Bidirectional LSTM (Conjunto Sem Transformações)')\n",
        "plt.plot(history_bidirectional.history['accuracy'], label = 'train', color = '#343A40', linewidth = 2.0)\n",
        "plt.plot(history_bidirectional.history['val_accuracy'], label = 'test', color = '#C9184A', linewidth = 2.0)\n",
        "plt.xticks(list(range(0, epochs)))\n",
        "plt.xlabel('epochs')\n",
        "plt.ylabel('accuracy')\n",
        "plt.legend()\n",
        "plt.show()"
      ],
      "metadata": {
        "colab": {
          "base_uri": "https://localhost:8080/",
          "height": 295
        },
        "id": "OuVANBwuxJAe",
        "outputId": "d2328382-7bc4-4617-b783-623ff30987c6"
      },
      "execution_count": null,
      "outputs": [
        {
          "output_type": "display_data",
          "data": {
            "text/plain": [
              "<Figure size 432x288 with 1 Axes>"
            ],
            "image/png": "[encoded data removed]"
          },
          "metadata": {
            "needs_background": "light"
          }
        }
      ]
    },
    {
      "cell_type": "code",
      "source": [
        "plt.title('Loss Bidirectional LSTM (Conjunto Sem Transformações)')\n",
        "plt.plot(history_bidirectional.history['loss'], label = 'train', color = '#343A40', linewidth = 2.0)\n",
        "plt.plot(history_bidirectional.history['val_loss'], label = 'test', color = '#C9184A', linewidth = 2.0)\n",
        "plt.xticks(list(range(0, epochs)))\n",
        "plt.xlabel('epochs')\n",
        "plt.ylabel('loss')\n",
        "plt.legend()\n",
        "plt.show()"
      ],
      "metadata": {
        "colab": {
          "base_uri": "https://localhost:8080/",
          "height": 295
        },
        "id": "e00AQ4l4rk4B",
        "outputId": "2919f772-9948-4bff-a9cd-15a969f1cbcb"
      },
      "execution_count": null,
      "outputs": [
        {
          "output_type": "display_data",
          "data": {
            "text/plain": [
              "<Figure size 432x288 with 1 Axes>"
            ],
            "image/png": "[encoded data removed]"
          },
          "metadata": {
            "needs_background": "light"
          }
        }
      ]
    },
    {
      "cell_type": "code",
      "source": [
        "# Comparando Resultados\n",
        "models = ['LSTM Tradicional',\n",
        "          'LSTM Bidirecional']\n",
        "\n",
        "accuracy = [history_3.history['val_accuracy'][-1],\n",
        "            history_bidirectional.history['val_accuracy'][-1]]\n",
        "\n",
        "results = pd.DataFrame({'Arquitetura': models,\n",
        "                        'Acurácia na Validação': accuracy})\n",
        "\n",
        "results['Acurácia na Validação'] = results['Acurácia na Validação'].apply(lambda x: round(x, 4))\n",
        "\n",
        "display(results)"
      ],
      "metadata": {
        "colab": {
          "base_uri": "https://localhost:8080/",
          "height": 112
        },
        "id": "oXzs04X1tzK1",
        "outputId": "d655b766-1c7a-4e43-cf4d-9f3fb0797486"
      },
      "execution_count": null,
      "outputs": [
        {
          "output_type": "display_data",
          "data": {
            "text/plain": [
              "         Arquitetura  Acurácia na Validação\n",
              "0   LSTM Tradicional                 0.6946\n",
              "1  LSTM Bidirecional                 0.7045"
            ],
            "text/html": [
              "\n",
              "  <div id=\"df-fe81d5ef-5d57-4143-b394-5bc5a5a11786\">\n",
              "    <div class=\"colab-df-container\">\n",
              "      <div>\n",
              "<style scoped>\n",
              "    .dataframe tbody tr th:only-of-type {\n",
              "        vertical-align: middle;\n",
              "    }\n",
              "\n",
              "    .dataframe tbody tr th {\n",
              "        vertical-align: top;\n",
              "    }\n",
              "\n",
              "    .dataframe thead th {\n",
              "        text-align: right;\n",
              "    }\n",
              "</style>\n",
              "<table border=\"1\" class=\"dataframe\">\n",
              "  <thead>\n",
              "    <tr style=\"text-align: right;\">\n",
              "      <th></th>\n",
              "      <th>Arquitetura</th>\n",
              "      <th>Acurácia na Validação</th>\n",
              "    </tr>\n",
              "  </thead>\n",
              "  <tbody>\n",
              "    <tr>\n",
              "      <th>0</th>\n",
              "      <td>LSTM Tradicional</td>\n",
              "      <td>0.6946</td>\n",
              "    </tr>\n",
              "    <tr>\n",
              "      <th>1</th>\n",
              "      <td>LSTM Bidirecional</td>\n",
              "      <td>0.7045</td>\n",
              "    </tr>\n",
              "  </tbody>\n",
              "</table>\n",
              "</div>\n",
              "      <button class=\"colab-df-convert\" onclick=\"convertToInteractive('df-fe81d5ef-5d57-4143-b394-5bc5a5a11786')\"\n",
              "              title=\"Convert this dataframe to an interactive table.\"\n",
              "              style=\"display:none;\">\n",
              "        \n",
              "  <svg xmlns=\"http://www.w3.org/2000/svg\" height=\"24px\"viewBox=\"0 0 24 24\"\n",
              "       width=\"24px\">\n",
              "    <path d=\"M0 0h24v24H0V0z\" fill=\"none\"/>\n",
              "    <path d=\"M18.56 5.44l.94 2.06.94-2.06 2.06-.94-2.06-.94-.94-2.06-.94 2.06-2.06.94zm-11 1L8.5 8.5l.94-2.06 2.06-.94-2.06-.94L8.5 2.5l-.94 2.06-2.06.94zm10 10l.94 2.06.94-2.06 2.06-.94-2.06-.94-.94-2.06-.94 2.06-2.06.94z\"/><path d=\"M17.41 7.96l-1.37-1.37c-.4-.4-.92-.59-1.43-.59-.52 0-1.04.2-1.43.59L10.3 9.45l-7.72 7.72c-.78.78-.78 2.05 0 2.83L4 21.41c.39.39.9.59 1.41.59.51 0 1.02-.2 1.41-.59l7.78-7.78 2.81-2.81c.8-.78.8-2.07 0-2.86zM5.41 20L4 18.59l7.72-7.72 1.47 1.35L5.41 20z\"/>\n",
              "  </svg>\n",
              "      </button>\n",
              "      \n",
              "  <style>\n",
              "    .colab-df-container {\n",
              "      display:flex;\n",
              "      flex-wrap:wrap;\n",
              "      gap: 12px;\n",
              "    }\n",
              "\n",
              "    .colab-df-convert {\n",
              "      background-color: #E8F0FE;\n",
              "      border: none;\n",
              "      border-radius: 50%;\n",
              "      cursor: pointer;\n",
              "      display: none;\n",
              "      fill: #1967D2;\n",
              "      height: 32px;\n",
              "      padding: 0 0 0 0;\n",
              "      width: 32px;\n",
              "    }\n",
              "\n",
              "    .colab-df-convert:hover {\n",
              "      background-color: #E2EBFA;\n",
              "      box-shadow: 0px 1px 2px rgba(60, 64, 67, 0.3), 0px 1px 3px 1px rgba(60, 64, 67, 0.15);\n",
              "      fill: #174EA6;\n",
              "    }\n",
              "\n",
              "    [theme=dark] .colab-df-convert {\n",
              "      background-color: #3B4455;\n",
              "      fill: #D2E3FC;\n",
              "    }\n",
              "\n",
              "    [theme=dark] .colab-df-convert:hover {\n",
              "      background-color: #434B5C;\n",
              "      box-shadow: 0px 1px 3px 1px rgba(0, 0, 0, 0.15);\n",
              "      filter: drop-shadow(0px 1px 2px rgba(0, 0, 0, 0.3));\n",
              "      fill: #FFFFFF;\n",
              "    }\n",
              "  </style>\n",
              "\n",
              "      <script>\n",
              "        const buttonEl =\n",
              "          document.querySelector('#df-fe81d5ef-5d57-4143-b394-5bc5a5a11786 button.colab-df-convert');\n",
              "        buttonEl.style.display =\n",
              "          google.colab.kernel.accessAllowed ? 'block' : 'none';\n",
              "\n",
              "        async function convertToInteractive(key) {\n",
              "          const element = document.querySelector('#df-fe81d5ef-5d57-4143-b394-5bc5a5a11786');\n",
              "          const dataTable =\n",
              "            await google.colab.kernel.invokeFunction('convertToInteractive',\n",
              "                                                     [key], {});\n",
              "          if (!dataTable) return;\n",
              "\n",
              "          const docLinkHtml = 'Like what you see? Visit the ' +\n",
              "            '<a target=\"_blank\" href=https://colab.research.google.com/notebooks/data_table.ipynb>data table notebook</a>'\n",
              "            + ' to learn more about interactive tables.';\n",
              "          element.innerHTML = '';\n",
              "          dataTable['output_type'] = 'display_data';\n",
              "          await google.colab.output.renderOutput(dataTable, element);\n",
              "          const docLink = document.createElement('div');\n",
              "          docLink.innerHTML = docLinkHtml;\n",
              "          element.appendChild(docLink);\n",
              "        }\n",
              "      </script>\n",
              "    </div>\n",
              "  </div>\n",
              "  "
            ]
          },
          "metadata": {}
        }
      ]
    },
    {
      "cell_type": "markdown",
      "source": [
        "O aumento de complexidade do modelo com a inclusão de um algoritmo bidirecional, decorreu em uma melhora levemente significativa da acurácia na previsão dos resultados quando em comparação com o modelo utilizando o algoritmo LSTM de forma tradicional. Porém, o custo computacional tornou-se maior maior em virtude dos *inputs* - aqui temos duas leituras das sequências.\n"
      ],
      "metadata": {
        "id": "wWarOAj3CGUN"
      }
    },
    {
      "cell_type": "markdown",
      "source": [
        "## **Implementação de Modelo RNN com Convolução**"
      ],
      "metadata": {
        "id": "zU_K5PzyvKAO"
      }
    },
    {
      "cell_type": "markdown",
      "source": [
        "Ao modelo que vinha sendo executado anteriormente (RNN com LSTM), será incluída uma camada de convolução antes da execução do algoritmo LSTM.\n",
        "\n",
        "O intuito deste *layer* é diminuir o tempo de treinamento do modelo, isto porque modelos convolucionais tendem a processar os *inputs* de forma simultânea, diferente das redes neurais recorrentes que processam cada palavra de forma sequencial.\n",
        "\n",
        "A nova arquitetura será dada por:\n",
        "- Layer de embedding;\n",
        "- Layer de dropout do embedding;\n",
        "- Layer de convolução;\n",
        "- Implementação de recorrência via LSTM - *Long Short Term Memory* - (com dropout e dropout recorrente);\n",
        "- Layer Denso;\n",
        "- Dropout do layer denso;\n",
        "- Layer denso de output com função de ativação sigmoide, devido ao tipo de classificação.\n",
        "\n",
        "O modelo continuará a ser treinado com o conjunto sem transformações. Para a construção da camada de convolução, uma configuração conservadora foi utilizada."
      ],
      "metadata": {
        "id": "hoq5Zy79vT8Q"
      }
    },
    {
      "cell_type": "code",
      "source": [
        "embedding_layer = Embedding(input_dim = vocab_size_4, output_dim = 80, input_length = max_seq_length)"
      ],
      "metadata": {
        "id": "C5qwnCe7xIXx"
      },
      "execution_count": null,
      "outputs": []
    },
    {
      "cell_type": "code",
      "source": [
        "sequence_input = Input(shape = (max_seq_length, ), dtype = 'int32')\n",
        "embedding_sequences = embedding_layer(sequence_input)\n",
        "x = SpatialDropout1D(0.2)(embedding_sequences)\n",
        "x = Conv1D(filters = 32, kernel_size = 8, activation = 'relu')(x)\n",
        "x = LSTM(64, dropout = 0.2, recurrent_dropout = 0.2)(x)\n",
        "x = Dense(512, activation = 'relu')(x)\n",
        "x = Dropout(0.5)(x)\n",
        "outputs = Dense(1, activation = 'sigmoid')(x)\n",
        "\n",
        "model_convolutional = tf.keras.Model(sequence_input, outputs)"
      ],
      "metadata": {
        "id": "PDo9FHI6xMyV"
      },
      "execution_count": null,
      "outputs": []
    },
    {
      "cell_type": "code",
      "source": [
        "model_convolutional.compile(optimizer = 'adam', loss = 'binary_crossentropy', metrics = ['accuracy'])"
      ],
      "metadata": {
        "id": "iU2MUA07xQU6"
      },
      "execution_count": null,
      "outputs": []
    },
    {
      "cell_type": "code",
      "source": [
        "history_convolutional = model_convolutional.fit(x_train_4, y_train_4, batch_size = batch_size, epochs = epochs, validation_data = (x_val_4, y_val_4), verbose = 0)"
      ],
      "metadata": {
        "id": "69pKjH-59kBM"
      },
      "execution_count": null,
      "outputs": []
    },
    {
      "cell_type": "code",
      "source": [
        "plt.title('Accuracy Convolutional and Recurrent Model (Conjunto Sem Transformações)')\n",
        "plt.plot(history_convolutional.history['accuracy'], label = 'train', color = '#343A40', linewidth = 2.0)\n",
        "plt.plot(history_convolutional.history['val_accuracy'], label = 'validation', color = '#C9184A', linewidth = 2.0)\n",
        "plt.xticks(list(range(0, epochs)))\n",
        "plt.xlabel('epochs')\n",
        "plt.ylabel('accuracy')\n",
        "plt.legend()\n",
        "plt.show()"
      ],
      "metadata": {
        "colab": {
          "base_uri": "https://localhost:8080/",
          "height": 295
        },
        "id": "16qklNLl-dtG",
        "outputId": "c2d1187b-ed68-4fe4-fd6a-f7a47be417e5"
      },
      "execution_count": null,
      "outputs": [
        {
          "output_type": "display_data",
          "data": {
            "text/plain": [
              "<Figure size 432x288 with 1 Axes>"
            ],
            "image/png": "[encoded data removed]"
          },
          "metadata": {
            "needs_background": "light"
          }
        }
      ]
    },
    {
      "cell_type": "code",
      "source": [
        "plt.title('Loss Convolutional and Recurrent Model (Conjunto Sem Tranformações)')\n",
        "plt.plot(history_convolutional.history['loss'], label = 'train', color = '#343A40', linewidth = 2.0)\n",
        "plt.plot(history_convolutional.history['val_loss'], label = 'validation', color = '#C9184A', linewidth = 2.0)\n",
        "plt.xticks(list(range(0, epochs)))\n",
        "plt.xlabel('epochs')\n",
        "plt.ylabel('loss')\n",
        "plt.legend()\n",
        "plt.show()"
      ],
      "metadata": {
        "colab": {
          "base_uri": "https://localhost:8080/",
          "height": 295
        },
        "id": "3mpE-u0X-iWk",
        "outputId": "cb21fe52-e026-4d6b-f071-eac2a12de917"
      },
      "execution_count": null,
      "outputs": [
        {
          "output_type": "display_data",
          "data": {
            "text/plain": [
              "<Figure size 432x288 with 1 Axes>"
            ],
            "image/png": "[encoded data removed]"
          },
          "metadata": {
            "needs_background": "light"
          }
        }
      ]
    },
    {
      "cell_type": "code",
      "source": [
        "# Comparando Resultados\n",
        "models = ['LSTM Tradicional',\n",
        "          'LSTM Bidirecional',\n",
        "          'LSTM c/ Convolução']\n",
        "\n",
        "accuracy = [history_3.history['val_accuracy'][-1],\n",
        "            history_bidirectional.history['val_accuracy'][-1],\n",
        "            history_convolutional.history['val_accuracy'][-1]]\n",
        "\n",
        "results = pd.DataFrame({'Arquitetura': models,\n",
        "                        'Acurácia na Validação': accuracy})\n",
        "\n",
        "results['Acurácia na Validação'] = results['Acurácia na Validação'].apply(lambda x: round(x, 4))\n",
        "\n",
        "display(results)"
      ],
      "metadata": {
        "colab": {
          "base_uri": "https://localhost:8080/",
          "height": 143
        },
        "id": "EFXS_sMD_PR5",
        "outputId": "8ac4cb14-d059-4119-d1d3-1f849349c313"
      },
      "execution_count": null,
      "outputs": [
        {
          "output_type": "display_data",
          "data": {
            "text/plain": [
              "          Arquitetura  Acurácia na Validação\n",
              "0    LSTM Tradicional                 0.6946\n",
              "1   LSTM Bidirecional                 0.7045\n",
              "2  LSTM c/ Convolução                 0.7034"
            ],
            "text/html": [
              "\n",
              "  <div id=\"df-05124ecc-e9f4-4c62-8dd9-17f50b026d41\">\n",
              "    <div class=\"colab-df-container\">\n",
              "      <div>\n",
              "<style scoped>\n",
              "    .dataframe tbody tr th:only-of-type {\n",
              "        vertical-align: middle;\n",
              "    }\n",
              "\n",
              "    .dataframe tbody tr th {\n",
              "        vertical-align: top;\n",
              "    }\n",
              "\n",
              "    .dataframe thead th {\n",
              "        text-align: right;\n",
              "    }\n",
              "</style>\n",
              "<table border=\"1\" class=\"dataframe\">\n",
              "  <thead>\n",
              "    <tr style=\"text-align: right;\">\n",
              "      <th></th>\n",
              "      <th>Arquitetura</th>\n",
              "      <th>Acurácia na Validação</th>\n",
              "    </tr>\n",
              "  </thead>\n",
              "  <tbody>\n",
              "    <tr>\n",
              "      <th>0</th>\n",
              "      <td>LSTM Tradicional</td>\n",
              "      <td>0.6946</td>\n",
              "    </tr>\n",
              "    <tr>\n",
              "      <th>1</th>\n",
              "      <td>LSTM Bidirecional</td>\n",
              "      <td>0.7045</td>\n",
              "    </tr>\n",
              "    <tr>\n",
              "      <th>2</th>\n",
              "      <td>LSTM c/ Convolução</td>\n",
              "      <td>0.7034</td>\n",
              "    </tr>\n",
              "  </tbody>\n",
              "</table>\n",
              "</div>\n",
              "      <button class=\"colab-df-convert\" onclick=\"convertToInteractive('df-05124ecc-e9f4-4c62-8dd9-17f50b026d41')\"\n",
              "              title=\"Convert this dataframe to an interactive table.\"\n",
              "              style=\"display:none;\">\n",
              "        \n",
              "  <svg xmlns=\"http://www.w3.org/2000/svg\" height=\"24px\"viewBox=\"0 0 24 24\"\n",
              "       width=\"24px\">\n",
              "    <path d=\"M0 0h24v24H0V0z\" fill=\"none\"/>\n",
              "    <path d=\"M18.56 5.44l.94 2.06.94-2.06 2.06-.94-2.06-.94-.94-2.06-.94 2.06-2.06.94zm-11 1L8.5 8.5l.94-2.06 2.06-.94-2.06-.94L8.5 2.5l-.94 2.06-2.06.94zm10 10l.94 2.06.94-2.06 2.06-.94-2.06-.94-.94-2.06-.94 2.06-2.06.94z\"/><path d=\"M17.41 7.96l-1.37-1.37c-.4-.4-.92-.59-1.43-.59-.52 0-1.04.2-1.43.59L10.3 9.45l-7.72 7.72c-.78.78-.78 2.05 0 2.83L4 21.41c.39.39.9.59 1.41.59.51 0 1.02-.2 1.41-.59l7.78-7.78 2.81-2.81c.8-.78.8-2.07 0-2.86zM5.41 20L4 18.59l7.72-7.72 1.47 1.35L5.41 20z\"/>\n",
              "  </svg>\n",
              "      </button>\n",
              "      \n",
              "  <style>\n",
              "    .colab-df-container {\n",
              "      display:flex;\n",
              "      flex-wrap:wrap;\n",
              "      gap: 12px;\n",
              "    }\n",
              "\n",
              "    .colab-df-convert {\n",
              "      background-color: #E8F0FE;\n",
              "      border: none;\n",
              "      border-radius: 50%;\n",
              "      cursor: pointer;\n",
              "      display: none;\n",
              "      fill: #1967D2;\n",
              "      height: 32px;\n",
              "      padding: 0 0 0 0;\n",
              "      width: 32px;\n",
              "    }\n",
              "\n",
              "    .colab-df-convert:hover {\n",
              "      background-color: #E2EBFA;\n",
              "      box-shadow: 0px 1px 2px rgba(60, 64, 67, 0.3), 0px 1px 3px 1px rgba(60, 64, 67, 0.15);\n",
              "      fill: #174EA6;\n",
              "    }\n",
              "\n",
              "    [theme=dark] .colab-df-convert {\n",
              "      background-color: #3B4455;\n",
              "      fill: #D2E3FC;\n",
              "    }\n",
              "\n",
              "    [theme=dark] .colab-df-convert:hover {\n",
              "      background-color: #434B5C;\n",
              "      box-shadow: 0px 1px 3px 1px rgba(0, 0, 0, 0.15);\n",
              "      filter: drop-shadow(0px 1px 2px rgba(0, 0, 0, 0.3));\n",
              "      fill: #FFFFFF;\n",
              "    }\n",
              "  </style>\n",
              "\n",
              "      <script>\n",
              "        const buttonEl =\n",
              "          document.querySelector('#df-05124ecc-e9f4-4c62-8dd9-17f50b026d41 button.colab-df-convert');\n",
              "        buttonEl.style.display =\n",
              "          google.colab.kernel.accessAllowed ? 'block' : 'none';\n",
              "\n",
              "        async function convertToInteractive(key) {\n",
              "          const element = document.querySelector('#df-05124ecc-e9f4-4c62-8dd9-17f50b026d41');\n",
              "          const dataTable =\n",
              "            await google.colab.kernel.invokeFunction('convertToInteractive',\n",
              "                                                     [key], {});\n",
              "          if (!dataTable) return;\n",
              "\n",
              "          const docLinkHtml = 'Like what you see? Visit the ' +\n",
              "            '<a target=\"_blank\" href=https://colab.research.google.com/notebooks/data_table.ipynb>data table notebook</a>'\n",
              "            + ' to learn more about interactive tables.';\n",
              "          element.innerHTML = '';\n",
              "          dataTable['output_type'] = 'display_data';\n",
              "          await google.colab.output.renderOutput(dataTable, element);\n",
              "          const docLink = document.createElement('div');\n",
              "          docLink.innerHTML = docLinkHtml;\n",
              "          element.appendChild(docLink);\n",
              "        }\n",
              "      </script>\n",
              "    </div>\n",
              "  </div>\n",
              "  "
            ]
          },
          "metadata": {}
        }
      ]
    },
    {
      "cell_type": "markdown",
      "source": [
        "A adição de uma camada de convolução de forma prévia à aplicação do algoritmo LSTM não promoveu melhora que fosse significativa quando em comparação com o uso do LSTM de forma tradicional e no formato bidirecional.\n",
        "\n",
        "De forma geral, pode-se afirmar que as configurações utilizando como dados de treinamento o conjunto sem transformações (lematização e stemização) ofereceram métricas e desempenhos bastante similares."
      ],
      "metadata": {
        "id": "NHLLBcthHCTT"
      }
    },
    {
      "cell_type": "markdown",
      "source": [
        "## **Avaliando o Desempenho da Melhor Configuração nos Dados de Teste**"
      ],
      "metadata": {
        "id": "tvSixNiHTppo"
      }
    },
    {
      "cell_type": "markdown",
      "source": [
        "Nesta etapa, a configuração que proporcionou o alcance da melhor métrica será aplicada aos dados ainda não vistos pelo modelo: \n",
        "- Nenhuma transformação em termos de stemização ou lematização será aplicada a estes dados;\n",
        "- O modelo de RNN com LSTM bidirecional será utilizado."
      ],
      "metadata": {
        "id": "F6NrFcVMT2lI"
      }
    },
    {
      "cell_type": "code",
      "source": [
        "# Separando as features e o target\n",
        "x_test = test_data['text']\n",
        "y_test = test_data['hatespeech_comb']\n",
        "\n",
        "# Transformando o input em sequências numéricas\n",
        "x_test = pad_sequences(tokenizer_4.texts_to_sequences(x_test), maxlen = max_seq_length)"
      ],
      "metadata": {
        "id": "jF8DwwaoTqGi"
      },
      "execution_count": null,
      "outputs": []
    },
    {
      "cell_type": "code",
      "source": [
        "y_pred = model_bidirectional.predict(x_test)"
      ],
      "metadata": {
        "id": "cQDNLTFzUjjJ"
      },
      "execution_count": null,
      "outputs": []
    },
    {
      "cell_type": "code",
      "source": [
        "y_pred = np.where(y_pred < 0.5, 0, 1)\n",
        "y_pred"
      ],
      "metadata": {
        "colab": {
          "base_uri": "https://localhost:8080/"
        },
        "id": "9BMVOsh3WzWF",
        "outputId": "76741753-c192-4b5b-bfe5-ac4c1d32f02f"
      },
      "execution_count": null,
      "outputs": [
        {
          "output_type": "execute_result",
          "data": {
            "text/plain": [
              "array([[0],\n",
              "       [0],\n",
              "       [1],\n",
              "       ...,\n",
              "       [0],\n",
              "       [0],\n",
              "       [0]])"
            ]
          },
          "metadata": {},
          "execution_count": 99
        }
      ]
    },
    {
      "cell_type": "code",
      "source": [
        "accuracy = accuracy_score(y_test, y_pred)\n",
        "print(f'Acurácia alcançada no teste: {accuracy:.4f}')"
      ],
      "metadata": {
        "colab": {
          "base_uri": "https://localhost:8080/"
        },
        "id": "bW486WTsXaL5",
        "outputId": "a347b740-bb6c-4689-9758-17ffeec491fa"
      },
      "execution_count": null,
      "outputs": [
        {
          "output_type": "stream",
          "name": "stdout",
          "text": [
            "Acurácia alcançada no teste: 0.7081\n"
          ]
        }
      ]
    },
    {
      "cell_type": "markdown",
      "source": [
        "A acurácia para dados nunca antes vistos pelo modelo de RNN utilizando LSTM  e convolução mostrou-se bastante similar àquela alcançada com os dados de validação, indicando a qualidade da configuração proposta."
      ],
      "metadata": {
        "id": "NCHJV35WXw49"
      }
    }
  ]
}